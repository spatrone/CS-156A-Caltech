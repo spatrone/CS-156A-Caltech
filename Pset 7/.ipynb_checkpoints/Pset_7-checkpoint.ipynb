{
 "cells": [
  {
   "cell_type": "markdown",
   "metadata": {},
   "source": [
    "# CS 156a - Problem Set 7\n",
    "\n",
    "## Patrone Samuel, 2140749\n",
    "\n",
    "The following notebook is publicly available at https://github.com/spatrone/CS156A-Caltech.git."
   ]
  },
  {
   "cell_type": "markdown",
   "metadata": {},
   "source": [
    "## Problems 1-5\n",
    "\n",
    "### Answers: [d] $k=6$, [e] $k=7$, [d] $k=6$, [d] $k=6$, [b] $[0.1,0.2]$\n",
    "### Code:"
   ]
  },
  {
   "cell_type": "code",
   "execution_count": 50,
   "metadata": {},
   "outputs": [],
   "source": [
    "import numpy as np\n",
    "import matplotlib.pyplot as plt\n",
    "import pandas as pd\n",
    "\n",
    "#import data\n",
    "\n",
    "in_data=pd.read_csv('in.dta',header=None,delim_whitespace=True)\n",
    "out_data=pd.read_csv('out.dta',header=None,delim_whitespace=True)\n",
    "\n",
    "in_pts=in_data[[0, 1]].to_numpy()\n",
    "in_y=in_data[2].to_numpy()\n",
    "\n",
    "out_pts=out_data[[0, 1]].to_numpy()\n",
    "out_y=out_data[2].to_numpy()\n",
    "\n",
    "\n",
    "#non-linear transformation\n",
    "\n",
    "def transform(pts,k):\n",
    "    if(k>7): \n",
    "        raise Exception('WARNING: k must be smaller than 7!')\n",
    "    res=[]\n",
    "    for i in range(len(pts)):\n",
    "        x1=pts[i][0]\n",
    "        x2=pts[i][1]\n",
    "        res_temp=[]\n",
    "        for k in range(k+1):\n",
    "            res_full=[1,x1,x2,x1**2,x2**2,x1*x2,np.abs(x1-x2),np.abs(x1+x2)]\n",
    "            res_temp.append(res_full[k])\n",
    "        res.append(res_temp)\n",
    "    return np.array(res)\n",
    "        \n",
    "def lin_reg(pts,y):\n",
    "    return np.dot(np.linalg.pinv(pts),y)\n",
    "\n",
    "def h(pts,w):\n",
    "    return np.sign(np.dot(w,pts.T))\n",
    "\n",
    "def validation(w,val_pts,val_y):\n",
    "    gout=h(val_pts,w)\n",
    "    testgout=(gout==val_y)\n",
    "    return len(np.where(testgout==False)[0])/len(val_y)"
   ]
  },
  {
   "cell_type": "code",
   "execution_count": 60,
   "metadata": {},
   "outputs": [
    {
     "name": "stdout",
     "output_type": "stream",
     "text": [
      "Results for 25:10 (training:validation)\n",
      "\n",
      "k=3 | Eval_in: 0.30 | Eval_out: 0.42\n",
      "k=4 | Eval_in: 0.50 | Eval_out: 0.42\n",
      "k=5 | Eval_in: 0.20 | Eval_out: 0.19\n",
      "k=6 | Eval_in: 0.00 | Eval_out: 0.08\n",
      "k=7 | Eval_in: 0.10 | Eval_out: 0.07\n"
     ]
    }
   ],
   "source": [
    "#Problem 1-2-5\n",
    "print('Results for 25:10 (training:validation)\\n')\n",
    "\n",
    "train=in_pts[0:-10]\n",
    "train_y=in_y[0:-10]\n",
    "val=in_pts[25:]\n",
    "val_y=in_y[25:]\n",
    "\n",
    "k=[3,4,5,6,7]\n",
    "\n",
    "for i in k:\n",
    "    train_transf=transform(train,i)\n",
    "    val_in=transform(val,i)\n",
    "    val_out=transform(out_pts,i)\n",
    "    w=lin_reg(train_transf,train_y)\n",
    "    Eval_in=validation(w,val_in,val_y)\n",
    "    Eval_out=validation(w,val_out,out_y)\n",
    "    print(f'k={i} | Eval_in: {Eval_in:.2f} | Eval_out: {Eval_out:.2f}')"
   ]
  },
  {
   "cell_type": "code",
   "execution_count": 59,
   "metadata": {},
   "outputs": [
    {
     "name": "stdout",
     "output_type": "stream",
     "text": [
      "Results for 10:25 (training:validation)\n",
      "\n",
      "k=3 | Eval_in: 0.28 | Eval_out: 0.40\n",
      "k=4 | Eval_in: 0.36 | Eval_out: 0.39\n",
      "k=5 | Eval_in: 0.20 | Eval_out: 0.28\n",
      "k=6 | Eval_in: 0.08 | Eval_out: 0.19\n",
      "k=7 | Eval_in: 0.12 | Eval_out: 0.20\n"
     ]
    }
   ],
   "source": [
    "#Problem 3-4-5\n",
    "print('Results for 10:25 (training:validation)\\n')\n",
    "\n",
    "val=in_pts[0:-10]\n",
    "val_y=in_y[0:-10]\n",
    "train=in_pts[25:]\n",
    "train_y=in_y[25:]\n",
    "\n",
    "k=[3,4,5,6,7]\n",
    "\n",
    "for i in k:\n",
    "    train_transf=transform(train,i)\n",
    "    val_in=transform(val,i)\n",
    "    val_out=transform(out_pts,i)\n",
    "    w=lin_reg(train_transf,train_y)\n",
    "    Eval_in=validation(w,val_in,val_y)\n",
    "    Eval_out=validation(w,val_out,out_y)\n",
    "    print(f'k={i} | Eval_in: {Eval_in:.2f} | Eval_out: {Eval_out:.2f}')"
   ]
  },
  {
   "cell_type": "markdown",
   "metadata": {},
   "source": [
    "## Problem 6\n",
    "\n",
    "### Answer: [d] $[0.5,0.5,0.4]$\n",
    "\n",
    "### Code:"
   ]
  },
  {
   "cell_type": "code",
   "execution_count": 93,
   "metadata": {},
   "outputs": [
    {
     "name": "stdout",
     "output_type": "stream",
     "text": [
      "After Nruns=1.0e+06, we find the following average values:\n",
      "\n",
      "[e1,e2,min(e1,e2)]=[0.5,0.5,0.33]\n"
     ]
    }
   ],
   "source": [
    "e1_avg=0\n",
    "e2_avg=0\n",
    "min_avg=0\n",
    "\n",
    "Nruns=1000000\n",
    "\n",
    "for i in range(Nruns):\n",
    "    e1,e2=np.random.rand(),np.random.rand()\n",
    "    e1_avg+=e1\n",
    "    e2_avg+=e2\n",
    "    min_avg+=min(e1,e2)\n",
    "\n",
    "print(f'After Nruns={Nruns:.1e}, we find the following average values:\\n\\n[e1,e2,min(e1,e2)]=[{e1_avg/Nruns:.1f},{e2_avg/Nruns:.1f},{min_avg/Nruns:.2f}]')"
   ]
  },
  {
   "cell_type": "code",
   "execution_count": null,
   "metadata": {},
   "outputs": [],
   "source": []
  }
 ],
 "metadata": {
  "kernelspec": {
   "display_name": "Python 3",
   "language": "python",
   "name": "python3"
  },
  "language_info": {
   "codemirror_mode": {
    "name": "ipython",
    "version": 3
   },
   "file_extension": ".py",
   "mimetype": "text/x-python",
   "name": "python",
   "nbconvert_exporter": "python",
   "pygments_lexer": "ipython3",
   "version": "3.7.4"
  },
  "latex_envs": {
   "LaTeX_envs_menu_present": false,
   "autoclose": true,
   "autocomplete": false,
   "bibliofile": "biblio.bib",
   "cite_by": "apalike",
   "current_citInitial": 1,
   "eqLabelWithNumbers": true,
   "eqNumInitial": 1,
   "hotkeys": {
    "equation": "Ctrl-E",
    "itemize": "Ctrl-I"
   },
   "labels_anchors": true,
   "latex_user_defs": false,
   "report_style_numbering": false,
   "user_envs_cfg": true
  },
  "toc": {
   "base_numbering": 1,
   "nav_menu": {},
   "number_sections": false,
   "sideBar": true,
   "skip_h1_title": true,
   "title_cell": "Table of Contents",
   "title_sidebar": "Contents",
   "toc_cell": false,
   "toc_position": {},
   "toc_section_display": true,
   "toc_window_display": false
  }
 },
 "nbformat": 4,
 "nbformat_minor": 2
}
