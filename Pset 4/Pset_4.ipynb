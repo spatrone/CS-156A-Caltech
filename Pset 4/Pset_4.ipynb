{
 "cells": [
  {
   "cell_type": "markdown",
   "metadata": {},
   "source": [
    "# CS 156a - Problem Set 4\n",
    "\n",
    "## Patrone Samuel, 2140749\n",
    "\n",
    "The following notebook is publicly available at https://github.com/spatrone/CS156A-Caltech.git."
   ]
  },
  {
   "cell_type": "markdown",
   "metadata": {},
   "source": [
    "## Problem 1\n",
    "\n",
    "### Answer: [d] $460,000$\n",
    "\n",
    "### Derivation:\n",
    "\n",
    "The VC generalization bound states that, with probability at least $1-\\delta$:\n",
    "\n",
    "$$\n",
    "E_{out}(g)\\le E_{in}(g) + \\Omega(N,\\mathcal{H},\\delta)\\,,\n",
    "$$\n",
    "\n",
    "where $\\Omega(N,\\mathcal{H},\\delta)$ is the generalization error that can be written as a function of the number of samples $N$, the growth function $m_{\\mathcal{H}}(N)$ for the hypothesis set $\\mathcal{H}$ and the confidence parameter $\\delta$ as the following\n",
    "\n",
    "$$\n",
    "\\Omega(N,\\mathcal{H},\\delta)=\\sqrt{\\frac{1}{8N}\\log{\\left(\\frac{4 m_{\\mathcal{H}}(2N)}{\\delta}\\right)}}\\le \\sqrt{\\frac{1}{8N}\\log{\\left(\\frac{4 (2N)^{d_{VC}}}{\\delta}\\right)}}\\,.\n",
    "$$\n",
    "\n",
    "For the growth function $m_{\\mathcal{H}}(N)$ we used the polynomial bound \n",
    "\n",
    "$$\n",
    "m_{\\mathcal{H}}(N)\\le N^{d_{VC}}\n",
    "$$\n",
    "\n",
    "where $d_{VC}$ is the VC dimension of the hypothesis set $\\mathcal{H}$.\n",
    "\n",
    "In the following, a simple code to estimate the required number of sample $N$ if we want $\\Omega$ to be a specific value `Omega_value` within an error given by `eps`."
   ]
  },
  {
   "cell_type": "code",
   "execution_count": 73,
   "metadata": {},
   "outputs": [
    {
     "data": {
      "text/plain": [
       "452948"
      ]
     },
     "execution_count": 73,
     "metadata": {},
     "output_type": "execute_result"
    }
   ],
   "source": [
    "import math as m\n",
    "import numpy as np\n",
    "\n",
    "def VC_bound(N,d_vc,delta):\n",
    "    return m.sqrt(8/N*(m.log(4)+d_vc*m.log(2*N) - m.log(delta)))\n",
    "\n",
    "def find_N(d_vc,delta,Omega_value,eps):\n",
    "    error=1\n",
    "    N=1\n",
    "    while(error>eps):\n",
    "        error=np.abs((VC_bound(N,d_vc,delta)-Omega_value)/Omega_value)\n",
    "        if(error>eps): N+=1\n",
    "    return N  \n",
    "\n",
    "find_N(10,0.05,0.05,0.00001)"
   ]
  },
  {
   "cell_type": "markdown",
   "metadata": {},
   "source": [
    "## Problem 2\n",
    "\n",
    "### Answer: [d] ${\\rm Devroye}\\; \\epsilon \\le \\sqrt{\\frac{1}{2N}\\big(4\\epsilon(1+\\epsilon)+\\log{\\frac{4 m_{\\mathcal{H}}(N^2)}{\\delta}}\\big)}$\n",
    "\n",
    "### Code:"
   ]
  },
  {
   "cell_type": "code",
   "execution_count": 171,
   "metadata": {},
   "outputs": [],
   "source": [
    "import matplotlib.pyplot as plt\n",
    "\n",
    "def Rademacher(N,d_vc,delta):\n",
    "    return m.sqrt(2/N*(m.log(2*N)+m.log(2*N)*d_vc))+m.sqrt(2/N*m.log(1/delta))+1/N\n",
    "\n",
    "def Parrondo_Broek_impl(x,N,d_vc,delta):\n",
    "    return [m.sqrt(1/N*(2*x[i]+(m.log(6)+d_vc*m.log(2*N)-m.log(delta)))) for i in range(len(x))]\n",
    "\n",
    "def Devroye_impl(x,N,d_vc,delta):\n",
    "    return [m.sqrt(1/(2*N)*(4*x[i]*(1+x[i])+(m.log(4)+m.log(N)*2*d_vc-m.log(delta)))) for i in range(len(x))]\n",
    "\n",
    "def implicit_solve(func,N,d_vc,delta,eps=0.001,xleft=0,xright=1):\n",
    "    x = np.linspace(xleft, xright, np.int(1/eps)*xright)\n",
    "    y=func(x,N,d_vc,delta)-x\n",
    "    root = None  \n",
    "    for i in range(len(x)-1):\n",
    "        if y[i]*y[i+1] < 0:\n",
    "            root = x[i] - (x[i+1] - x[i])/(y[i+1] - y[i])*y[i]\n",
    "            break \n",
    "    if root is None:\n",
    "        print(f'Error: Could not find any root in the interval[{xleft},{xright}] for {func}')\n",
    "    else: return root\n",
    "\n",
    "def print_bounds(N,xleft=0,xright=20):\n",
    "    print(f'For N={N}\\n Original VC Bound={VC_bound(N,d_vc,delta):.3f} \\n Rademacher Bound={Rademacher(N,d_vc,delta):.3f} \\n Parrondo Broek Bound ={implicit_solve(Parrondo_Broek_impl,N,d_vc,delta,xleft=xleft,xright=xright):.3f} \\n Devroye Bound={implicit_solve(Devroye_impl,N,d_vc,delta,xleft=xleft,xright=xright):.3f}')"
   ]
  },
  {
   "cell_type": "code",
   "execution_count": 173,
   "metadata": {},
   "outputs": [
    {
     "data": {
      "image/png": "[encoded data removed]",
      "text/plain": [
       "<Figure size 432x288 with 1 Axes>"
      ]
     },
     "metadata": {
      "needs_background": "light"
     },
     "output_type": "display_data"
    }
   ],
   "source": [
    "N=np.arange(5000,10001)\n",
    "d_vc=50\n",
    "delta=0.05\n",
    "xleft=0\n",
    "xright=1\n",
    "\n",
    "VC_bound_vals=[VC_bound(N[i],d_vc,delta) for i in range(len(N))]\n",
    "Rademacher_vals=[Rademacher(N[i],d_vc,delta) for i in range(len(N))]\n",
    "Parrondo_Broek_vals=[implicit_solve(Parrondo_Broek_impl,N[i],d_vc,delta,xleft=xleft,xright=xright) for i in range(len(N))]\n",
    "Devroye_vals=[implicit_solve(Devroye_impl,N[i],d_vc,delta,xleft=xleft,xright=xright) for i in range(len(N))]\n",
    "\n",
    "plt.plot(N,VC_bound_vals,label=\"VC bound\")\n",
    "plt.plot(N,Rademacher_vals,label=\"Rademacher bound\")\n",
    "plt.plot(N,Parrondo_Broek_vals,label=\"Parrondo/Broek Bound\")\n",
    "plt.plot(N,Devroye_vals,label=\"Devroye Bound\")\n",
    "plt.legend(loc=[1.05,0.7])\n",
    "plt.show()"
   ]
  },
  {
   "cell_type": "code",
   "execution_count": 178,
   "metadata": {},
   "outputs": [
    {
     "name": "stdout",
     "output_type": "stream",
     "text": [
      "For N=10000\n",
      " Original VC Bound=0.632 \n",
      " Rademacher Bound=0.342 \n",
      " Parrondo Broek Bound =0.224 \n",
      " Devroye Bound=0.215\n"
     ]
    }
   ],
   "source": [
    "print_bounds(10000)"
   ]
  },
  {
   "cell_type": "markdown",
   "metadata": {},
   "source": [
    "## Problem 3\n",
    "\n",
    "### Answer: [c] ${\\rm Parrondo\\,and \\, Van\\, den \\,Broek:}\\; \\epsilon \\le \\sqrt{\\frac{1}{N}\\big(2\\epsilon+\\log{\\frac{6 m_{\\mathcal{H}}(2N)}{\\delta}}\\big)}$\n",
    "\n",
    "### Code:"
   ]
  },
  {
   "cell_type": "code",
   "execution_count": 177,
   "metadata": {},
   "outputs": [
    {
     "name": "stdout",
     "output_type": "stream",
     "text": [
      "For N=5\n",
      " Original VC Bound=13.828 \n",
      " Rademacher Bound=8.148 \n",
      " Parrondo Broek Bound =5.101 \n",
      " Devroye Bound=5.593\n"
     ]
    }
   ],
   "source": [
    "print_bounds(5)"
   ]
  },
  {
   "cell_type": "markdown",
   "metadata": {},
   "source": [
    "## Problem 4\n",
    "\n",
    "### Answer: [e] None of the above\n",
    "\n",
    "### Derivation:\n",
    "\n",
    "We want to minimize the mean squared error on the two examples given, in formulae:\n",
    "\n",
    "$$\n",
    "E_{in}=\\frac{1}{N}\\sum^N_{i=1}(a x_i-y_i)^2\\,.\n",
    "$$\n",
    "\n",
    "We can find the $\\bar{a}$ that minimizes the error by setting $\\frac{d}{da}E_{in}(\\bar{a})=0$. For two points, we get:\n",
    "\n",
    "$$\n",
    "\\bar{a}=\\frac{x_1 y_1 + x_2 y_2}{x_1^2 + x_2^2}\\,.\n",
    "$$\n",
    "\n",
    "Notice that the same result is obtained by applying the Linear Regression Algorithm (which by definition minimizes the mean squared errors). Let $X$ be the matrix of the data points, i.e.\n",
    "\n",
    "$$\n",
    "X=\n",
    "\\begin{pmatrix}\n",
    "x_1\\\\\n",
    "x_2\n",
    "\\end{pmatrix}\n",
    "\\,.\n",
    "$$\n",
    "\n",
    "The single weight $\\bar{a}$ is then found by computing $\\bar{a}=X^\\dagger y$, where\n",
    "\n",
    "$$\n",
    "X^\\dagger=(X^T X)^{-1}X^T=\n",
    "\\begin{pmatrix}\n",
    "\\frac{x_1}{x_1^2 + x_2^2}\\\\\n",
    "\\frac{x_2}{x_1^2 + x_2^2}\n",
    "\\end{pmatrix}\n",
    "\\,\n",
    "$$\n",
    "\n",
    "is the pseudo-inverse matrix of $X$.\n",
    "\n",
    "Finally, we want to find the average hypothesis $\\bar{g}(x)$. Given N two-point samples, it can be written as:\n",
    "\n",
    "$$\\bar{g}(x)=\\frac{1}{N}\\sum_{x\\in\\chi}h(x)=\\frac{\\sum^N_{i=0}\\bar{a}}{N} x=\\bar{a}_{avg}x\\,.$$"
   ]
  },
  {
   "cell_type": "code",
   "execution_count": 422,
   "metadata": {},
   "outputs": [
    {
     "name": "stdout",
     "output_type": "stream",
     "text": [
      "For 10000 samples of two points, a_avg=1.43\n"
     ]
    }
   ],
   "source": [
    "def a_min(x,y):\n",
    "    return np.dot(x,y)/np.dot(x,x)\n",
    "\n",
    "def f(x):\n",
    "    return np.sin(m.pi*x)\n",
    "\n",
    "def gen_data(func,N):\n",
    "    x=np.random.uniform(-1,1,N)\n",
    "    return x,func(x)\n",
    "\n",
    "a=[]\n",
    "Nsamples=10000\n",
    "\n",
    "for i in range(Nsamples):\n",
    "    x,y=gen_data(f,2)\n",
    "    a.append(a_min(x,y))\n",
    "\n",
    "a_avg=np.mean(a)\n",
    "\n",
    "print(f'For {Nsamples} samples of two points, a_avg={a_avg:.2f}')   "
   ]
  },
  {
   "cell_type": "markdown",
   "metadata": {},
   "source": [
    "## Problem 5\n",
    "\n",
    "### Answer: [b] $0.3$ \n",
    "\n",
    "### Derivation:\n",
    "\n",
    "We want to compute the bias for N sample-points:\n",
    "\n",
    "$$\n",
    "{\\rm bias}=\\frac{1}{N}\\sum_{x\\in\\chi}{\\rm bias}(x)=\\frac{1}{N}\\sum^N_{i=1}(\\bar{g}(x_i)-f(x_i))^2=\\frac{1}{N}\\sum^N_{i=1}(\\bar{a}_{avg}x_i-f(x_i))^2\\,.\n",
    "$$"
   ]
  },
  {
   "cell_type": "code",
   "execution_count": 423,
   "metadata": {},
   "outputs": [
    {
     "name": "stdout",
     "output_type": "stream",
     "text": [
      "For 10000 sample-points, bias=0.27\n"
     ]
    }
   ],
   "source": [
    "bias=0\n",
    "\n",
    "for i in range(Nsamples):\n",
    "    x,y=gen_data(f,1)\n",
    "    bias+=(a_avg*x[0]-y[0])**2\n",
    "\n",
    "bias=bias/Nsamples\n",
    "\n",
    "print(f'For {Nsamples} sample-points, bias={bias:.2f}')   "
   ]
  },
  {
   "cell_type": "markdown",
   "metadata": {},
   "source": [
    "## Problem 6\n",
    "\n",
    "### Answer: [a] $0.2$ \n",
    "\n",
    "### Derivation:\n",
    "\n",
    "We want to compute the variance for N sample-points:\n",
    "\n",
    "$$\n",
    "{\\rm var}=\\frac{1}{N}\\sum_{x\\in\\chi}{\\rm var}(x)=\\frac{1}{N}\\sum^N_{i=1}(h(x)-\\bar{g}(x))^2=\\frac{1}{N}\\sum^N_{i=1}((\\bar{a}_i-\\bar{a}_{avg})x_i)^2\\,.\n",
    "$$"
   ]
  },
  {
   "cell_type": "code",
   "execution_count": 426,
   "metadata": {},
   "outputs": [
    {
     "name": "stdout",
     "output_type": "stream",
     "text": [
      "For 10000 sample-points, bias=0.24\n"
     ]
    }
   ],
   "source": [
    "var=0\n",
    "\n",
    "for i in range(Nsamples):\n",
    "    x,y=gen_data(f,1)\n",
    "    var+=(a[i]*x[0]-a_avg*x[0])**2\n",
    "\n",
    "var=var/Nsamples\n",
    "\n",
    "print(f'For {Nsamples} sample-points, bias={var:.2f}')   "
   ]
  },
  {
   "cell_type": "markdown",
   "metadata": {},
   "source": [
    "## Problem 7\n",
    "\n",
    "### Answer: [b] $h(x)=ax$\n",
    "\n",
    "### Derivation:\n",
    "\n",
    "The expected value of out-of-sample error $E_{out}$ in the bias-variance analysis can be written as\n",
    "\n",
    "$$\n",
    "E_{out}\\sim{\\rm bias}+{\\rm var}\n",
    "$$\n",
    "\n",
    "For the proposed models, taking the other data from the lecture notes, we have:\n",
    "\n",
    "- [a] $h(x)=b$    has $({\\rm bias},{\\rm var})=(0.5,0.25)\\rightarrow E_{out}\\sim 0.75$\n",
    "- [b] $h(x)=ax$   has $({\\rm bias},{\\rm var})=(0.3,0.2)\\rightarrow E_{out}\\sim 0.5$\n",
    "- [c] $h(x)=ax+b$ has $({\\rm bias},{\\rm var})=(0.21,1.69)\\rightarrow E_{out}\\sim 1.9$\n",
    "\n",
    "where we excluded the quadratic hypothesis since they are too complex for the amount of points provided."
   ]
  },
  {
   "cell_type": "markdown",
   "metadata": {},
   "source": [
    "## Problem 8\n",
    "\n",
    "### Answer: [c] $q$\n",
    "\n",
    "### Derivation:\n",
    "\n",
    "When $N<q$, the recursive relation can be solved exactly with initial condition $m_{\\mathcal{H}}(1)=2$, giving\n",
    "\n",
    "$$\n",
    "m_{\\mathcal{H}}(N\\le q)=2^N\\,.\n",
    "$$\n",
    "\n",
    "For $N=q+1$:\n",
    "\n",
    "$$\n",
    "m_{\\mathcal{H}}(q+1)=2*2^{q}-{q\\choose q}=2^{q+1}-1\\,.\n",
    "$$\n",
    "\n",
    "Hence, $k=q+1$ is a break point for the hypothesis set $\\mathcal{H}$. By definition, the VC dimension of the set is then:\n",
    "\n",
    "$$\n",
    "d_{VC}=k-1=q\\,.\n",
    "$$\n"
   ]
  },
  {
   "cell_type": "markdown",
   "metadata": {},
   "source": [
    "## Problem 9\n",
    "\n",
    "### Answer: [b] $0\\le d_{VC}(\\cap_k \\mathcal{H}_k)\\le {\\rm min}\\{d_{VC}(\\mathcal{H}_k)\\}$\n",
    "\n",
    "### Derivation:\n",
    "\n",
    "Since the intersection can be the empty set (consider disjoint sets), and by definition the singleton set has VC dimension 0, the lower bound of the intersection has to be 0.\n",
    "\n",
    "The upper bound should be the minimum VC dimension among all the sets, which we call $d_{min}$. Suppose instead the VC dimension of the intersection set is $d_{min}+1$. This implies that the intersection set hypothesis can shatter $d_{min}+1$ points. Hence, every hypothesis in the intersection should be able to shatter $d_{min}+1$ which contradicts the assumption that $d_{min}$ is the VC dimension of one of the sets."
   ]
  },
  {
   "cell_type": "markdown",
   "metadata": {},
   "source": [
    "## Problem 10\n",
    "\n",
    "### Answer: [e] ${\\rm max}\\{d_{VC}(\\mathcal{H}_k)\\}\\le d_{VC}(\\cup_k \\mathcal{H}_k)\\le K-1+\\sum_k d_{VC}(\\mathcal{H}_k)$\n",
    "\n",
    "### Derivation:\n",
    "\n",
    "The lower bound of the union set has to be the maximum VC dimension among all the sets $d_{max}$, since we can always shatter $d_{max}$ points with the union set by taking the subset that has $d_{max}$ as its VC dimension.\n",
    "\n",
    "For the upper bound, we first prove that the union set of two hypothesis sets $\\mathcal{H}_1$ and $\\mathcal{H}_2$ with VC dimensions $d_1$ and $d_2$ respectively can shatter at most $N-1=d_1+d_2+1$ points. First of all, we observe that the growth function of the union set can be at most the sum of the two growth functions of the two subsets for any $N$. In particular, for $N=d_1+d_2+2$ we find:\n",
    "\n",
    "$$\n",
    "m_{\\mathcal{H}_1\\cup\\mathcal{H}_2}(N)\\le m_{\\mathcal{H}_1}(N)+m_{\\mathcal{H}_2}(N) \\le \\sum_{k=0}^{d_{1}}{N\\choose k}+\\sum_{k=0}^{d_{2}}{N\\choose k}=\\sum_{k=0}^{d_{1}}{N\\choose k}+\\sum_{k=0}^{d_{2}}{N\\choose N-k}\\\\ =\\sum_{k=0}^{d_{1}}{N\\choose k}+\\sum_{k=N-d_2}^{N}{N\\choose k}=\\sum_{k=0}^{N}{N\\choose k}-\\sum_{k=d_1+1}^{N-d_2-1}{N\\choose k}=2^N-{N\\choose d_1+1}<2^N\\,.\n",
    "$$\n",
    "\n",
    "Therefore, if the first relation is an equality, $N=d_1+d_2+2$ is necessarily a break point for the union set and its VC dimension is $d_{VC}(\\mathcal{H}_1\\cup \\mathcal{H}_2)=d_1+d_2+1$. Therefore, we proved that\n",
    "\n",
    "$$\n",
    "d_{VC}(\\mathcal{H}_1\\cup \\mathcal{H}_2)\\le d_{VC}(\\mathcal{H}_1)+d_{VC}(\\mathcal{H}_2)+1\\,.\n",
    "$$\n",
    "\n",
    "Now, we use induction to prove the upper bound for a generalized union of $K$ hypothesis sets. Let's assume the relation is valid for $K-1$, in formulae:\n",
    "\n",
    "$$\n",
    "d_{VC}(\\cup_{k=0}^{K-1} \\mathcal{H}_k)\\le K-2+\\sum_{k=0}^{K-1} d_{VC}(\\mathcal{H}_k)\\,.\n",
    "$$\n",
    "\n",
    "For $d_{VC}(\\cup_{k=0}^{K} \\mathcal{H}_k)$, we can write:\n",
    "\n",
    "$$\n",
    "d_{VC}(\\cup_{k=0}^{K} \\mathcal{H}_k)= d_{VC}(\\cup_{k=0}^{K-1} \\mathcal{H}_k \\cup \\mathcal{H}_K)\\le d_{VC}(\\cup_{k=0}^{K-1} \\mathcal{H}_k)+d_{VC}(\\mathcal{H}_K)+1\\\\ \\le K-2+\\sum_{k=0}^{K-1} d_{VC}(\\mathcal{H}_k)+d_{VC}(\\mathcal{H}_K)+1=K-1+\\sum_{k=0}^{K} d_{VC}(\\mathcal{H}_k)\\,.\n",
    "$$"
   ]
  },
  {
   "cell_type": "code",
   "execution_count": null,
   "metadata": {},
   "outputs": [],
   "source": []
  }
 ],
 "metadata": {
  "kernelspec": {
   "display_name": "Python 3",
   "language": "python",
   "name": "python3"
  },
  "language_info": {
   "codemirror_mode": {
    "name": "ipython",
    "version": 3
   },
   "file_extension": ".py",
   "mimetype": "text/x-python",
   "name": "python",
   "nbconvert_exporter": "python",
   "pygments_lexer": "ipython3",
   "version": "3.7.4"
  },
  "latex_envs": {
   "LaTeX_envs_menu_present": false,
   "autoclose": true,
   "autocomplete": false,
   "bibliofile": "biblio.bib",
   "cite_by": "apalike",
   "current_citInitial": 1,
   "eqLabelWithNumbers": true,
   "eqNumInitial": 1,
   "hotkeys": {
    "equation": "Ctrl-E",
    "itemize": "Ctrl-I"
   },
   "labels_anchors": true,
   "latex_user_defs": false,
   "report_style_numbering": false,
   "user_envs_cfg": true
  },
  "toc": {
   "base_numbering": 1,
   "nav_menu": {},
   "number_sections": false,
   "sideBar": true,
   "skip_h1_title": true,
   "title_cell": "Table of Contents",
   "title_sidebar": "Contents",
   "toc_cell": false,
   "toc_position": {},
   "toc_section_display": true,
   "toc_window_display": false
  }
 },
 "nbformat": 4,
 "nbformat_minor": 2
}
