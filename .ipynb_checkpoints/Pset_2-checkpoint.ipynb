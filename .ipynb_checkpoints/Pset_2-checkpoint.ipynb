{
 "cells": [
  {
   "cell_type": "markdown",
   "metadata": {},
   "source": [
    "# CS 156a - Problem Set 2\n",
    "\n",
    "## Patrone Samuel, 2140749\n",
    "\n",
    "The following notebook is publicly available at https://github.com/spatrone/CS156A-Caltech.git."
   ]
  },
  {
   "cell_type": "markdown",
   "metadata": {},
   "source": [
    "## Problem 1\n",
    "\n",
    "### Answers: [b]\n",
    "\n",
    "### Code:\n"
   ]
  },
  {
   "cell_type": "code",
   "execution_count": 6,
   "metadata": {},
   "outputs": [],
   "source": [
    "import numpy as np\n",
    "from IPython.display import clear_output\n",
    "import matplotlib.pyplot as plt\n",
    "import pickle\n",
    "\n",
    "def flipcoin_heads(Ntimes):\n",
    "    heads=0\n",
    "    for i in range(Ntimes):\n",
    "        heads+=np.random.randint(0,2)\n",
    "    return heads\n",
    "\n",
    "def get_freq(Ncoins,Nflips, c_spec=0):\n",
    "    c_rand=np.random.randint(0,Ncoins)\n",
    "    nu_min=1\n",
    "    nu_spec=0\n",
    "    for i in range(Ncoins):\n",
    "        nu_toss=flipcoin_heads(Nflips)/Nflips\n",
    "        if(i==c_spec): nu_spec=nu_toss\n",
    "        if(i==c_rand): nu_rand=nu_toss\n",
    "        if(nu_toss<nu_min): nu_min=nu_toss\n",
    "    return [nu_spec,nu_rand,nu_min]\n",
    "\n",
    "\n",
    "def run_exp(Ntimes,Ncoins,Nflips,filename='freq.npy',saveonfile=True):\n",
    "    freq=[]\n",
    "    for i in range(Ntimes):\n",
    "        clear_output(wait=True)\n",
    "        print(\"Current progress:\",np.round(i/Ntimes*100,2),\"%\")\n",
    "        freq.append(get_freq(Ncoins,Nflips, c_spec=0))\n",
    "    if(saveonfile==True):\n",
    "        with open('freq.npy', 'wb') as f:\n",
    "            np.save(f, np.array(freq))\n",
    "    return np.array(freq)"
   ]
  },
  {
   "cell_type": "code",
   "execution_count": 2,
   "metadata": {},
   "outputs": [
    {
     "name": "stdout",
     "output_type": "stream",
     "text": [
      "Current progress: 100.0 %\n"
     ]
    }
   ],
   "source": [
    "#freq=run_exp(100000,1000,10)"
   ]
  },
  {
   "cell_type": "code",
   "execution_count": 7,
   "metadata": {},
   "outputs": [],
   "source": [
    "with open('freq.npy', 'rb') as f:\n",
    "    freq= np.load(f)"
   ]
  },
  {
   "cell_type": "code",
   "execution_count": 8,
   "metadata": {},
   "outputs": [
    {
     "name": "stdout",
     "output_type": "stream",
     "text": [
      "The average value of nu_min is 0.03756\n"
     ]
    }
   ],
   "source": [
    "nu_min_av=np.sum(freq[:,2])/100000\n",
    "print(\"The average value of nu_min is\",nu_min_av)"
   ]
  },
  {
   "cell_type": "code",
   "execution_count": 9,
   "metadata": {},
   "outputs": [
    {
     "name": "stderr",
     "output_type": "stream",
     "text": [
      "No handles with labels found to put in legend.\n"
     ]
    },
    {
     "data": {
      "image/png": "[encoded data removed]",
      "text/plain": [
       "<Figure size 432x288 with 1 Axes>"
      ]
     },
     "metadata": {
      "needs_background": "light"
     },
     "output_type": "display_data"
    }
   ],
   "source": [
    "plt.hist(freq[:,0],11)\n",
    "plt.hist(freq[:,1],11)\n",
    "plt.hist(freq[:,2],2)\n",
    "plt.show()"
   ]
  },
  {
   "cell_type": "markdown",
   "metadata": {},
   "source": [
    "## Problem 2\n",
    "\n",
    "### Answers: [d]\n",
    "\n",
    "### Derivation:\n"
   ]
  },
  {
   "cell_type": "code",
   "execution_count": null,
   "metadata": {},
   "outputs": [],
   "source": []
  }
 ],
 "metadata": {
  "kernelspec": {
   "display_name": "Python 3",
   "language": "python",
   "name": "python3"
  },
  "language_info": {
   "codemirror_mode": {
    "name": "ipython",
    "version": 3
   },
   "file_extension": ".py",
   "mimetype": "text/x-python",
   "name": "python",
   "nbconvert_exporter": "python",
   "pygments_lexer": "ipython3",
   "version": "3.7.4"
  },
  "latex_envs": {
   "LaTeX_envs_menu_present": false,
   "autoclose": true,
   "autocomplete": false,
   "bibliofile": "biblio.bib",
   "cite_by": "apalike",
   "current_citInitial": 1,
   "eqLabelWithNumbers": true,
   "eqNumInitial": 1,
   "hotkeys": {
    "equation": "Ctrl-E",
    "itemize": "Ctrl-I"
   },
   "labels_anchors": true,
   "latex_user_defs": false,
   "report_style_numbering": false,
   "user_envs_cfg": true
  }
 },
 "nbformat": 4,
 "nbformat_minor": 2
}
