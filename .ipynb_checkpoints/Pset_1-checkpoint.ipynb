{
 "cells": [
  {
   "cell_type": "markdown",
   "metadata": {},
   "source": [
    "# CS 156a - Problem Set 1\n",
    "\n",
    "## Patrone Samuel, 2140749\n",
    "\n",
    "The following notebook is publicly available at https://github.com/spatrone/CS156A-Caltech.git"
   ]
  },
  {
   "cell_type": "markdown",
   "metadata": {},
   "source": [
    "## Problem 1\n",
    "\n",
    "### Answer: [d]\n",
    "\n",
    "### Derivation:\n",
    "\n",
    "(i): the target function is known in advance (from the specifications given from US Mint). Nothing is learned by the machine.\n",
    "\n",
    "(ii): a training set of data with known output is given in advance to the algorithm in order to learn the target function itself. This is an example of supervised learning.\n",
    "\n",
    "(iii): a game is the classical example of reinforcement learning, in which an evaluation of the output (grading) is provided to the machine in order to learn and adjust to develop the best strategy.\n"
   ]
  },
  {
   "cell_type": "markdown",
   "metadata": {},
   "source": [
    "## Problem 2\n",
    "\n",
    "### Answer: [a]\n",
    "\n",
    "### Derivation:\n",
    "\n",
    "A generic problem, in order to be best suited for ML, needs three requisites:\n",
    "\n",
    "- a pattern exists\n",
    "\n",
    "- it cannot be pinned down mathematically\n",
    "\n",
    "- we have DATA on it\n",
    "\n",
    "In the list of problem presented\n",
    "\n",
    "(i): the problem of primes numbers identification can be pinned down mathematically.\n",
    "\n",
    "(ii): detecting potential fraud in credit cards has all the three characteristics described above -> ML suited\n",
    "\n",
    "(iii): the law of mechanics can describe the equation of motion of any object (under certain conditions). Again, the problem can be solved analytically.\n",
    "\n",
    "(iv): optimal cycle for traffic lights has again all the three characteristics described above -> ML suited\n"
   ]
  },
  {
   "cell_type": "markdown",
   "metadata": {},
   "source": [
    "## Problem 3\n",
    "\n",
    "### Answer: [d]\n",
    "\n",
    "### Derivation:\n",
    "\n",
    "To solve this problem, we can use the standard formula for conditional probability, which states that\n",
    "\n",
    "$$\n",
    "P(A|B)=\\frac{P(A \\cap B)}{P(B)}\\,.\n",
    "$$\n",
    "\n",
    "where\n",
    "\n",
    "- A is the event of picking up a black ball in our second draw\n",
    "- B is the event of picking up a black ball in our first draw\n",
    "- $P(A|B)$ is the probability of that the second ball is black given that the first ball is black, i.e. what the problem requires us to compute\n",
    "- $P(A \\cap B)=\\frac{1}{2}$ is the probability of that we pick two black balls, i.e. the probability of choosing the bag with two black balls inside\n",
    "- $P(B)=\\frac{3}{4}$ is the probability of picking up a black ball in our first draw\n",
    "\n",
    "Applying the equation above, we have that \n",
    "$$\n",
    "P(A|B)=\\frac{1}{2}\\frac{4}{3}=\\frac{2}{3}\\,.\n",
    "$$"
   ]
  },
  {
   "cell_type": "markdown",
   "metadata": {},
   "source": [
    "## Problem 4\n",
    "\n",
    "### Answer: [b]\n",
    "\n",
    "### Derivation:\n",
    "\n",
    "The probability to get no red marbles in one draw is $\\bar{\\mu}=(1-\\mu)=0.45$.\n",
    "In one sample, we draw 10 marbles independently, the probability to get all green marbles, i.e. $\\nu=0$, is just:\n",
    "\n",
    "$$\n",
    "\\label{noredonesample}\n",
    "P(\\nu= 0)=\\bar{\\mu}^{10}=3.405 \\times 10^{-4}\n",
    "$$\n"
   ]
  },
  {
   "cell_type": "markdown",
   "metadata": {},
   "source": [
    "## Problem 5\n",
    "\n",
    "### Answer: [c]\n",
    "\n",
    "### Derivation:\n",
    "\n",
    "The probability of getting no red marbles ($\\nu=0$) in one sample was computed in the previous equation. The complementary probability of getting $\\nu\\neq 0$ is therefore $P(\\nu\\neq 0)=1-\\bar{\\mu}^{10}$.\n",
    "For one thousand independent samples, the probability of getting $\\nu\\neq 0$ in all the samples is therefore \n",
    "\n",
    "$$P(\\nu\\neq 0)^{1000}\\,=0.711.$$\n",
    "\n",
    "Finally, the probability of getting at least one sample with all green marbles is\n",
    "\n",
    "$$1-P(\\nu\\neq 0)^{1000}\\,=0.289.$$\n"
   ]
  },
  {
   "cell_type": "markdown",
   "metadata": {},
   "source": [
    "## Problem 6\n",
    "\n",
    "### Answer: [e]\n",
    "\n",
    "### Derivation:\n",
    "\n",
    "The 8 possible functions $h_i$ on $\\mathcal{X}=\\{{\\bf x}_6,{\\bf x}_7,{\\bf x}_8\\}$, where \n",
    "\n",
    "${\\bf x}_6=\\{ 1,0,1\\}\\\\ \n",
    "{\\bf x}_7=\\{ 1,1,0\\}\\\\\n",
    "{\\bf x}_8=\\{ 1,1,1\\}\\,,$ \n",
    "\n",
    "are the following:\n",
    "\n",
    "$h_1[\\mathcal{X}]=\\{ 1,1,1\\}\\\\\n",
    "h_2[\\mathcal{X}]=\\{ 0,1,1\\}\\\\\n",
    "h_3[\\mathcal{X}]=\\{ 1,0,1\\}\\\\\n",
    "h_4[\\mathcal{X}]=\\{ 1,1,0\\}\\\\\n",
    "h_5[\\mathcal{X}]=\\{ 0,0,1\\}\\\\\n",
    "h_6[\\mathcal{X}]=\\{ 0,1,0\\}\\\\\n",
    "h_7[\\mathcal{X}]=\\{ 1,0,0\\}\\\\\n",
    "h_8[\\mathcal{X}]=\\{ 0,0,0\\}\\,.\n",
    "$\n",
    "\n",
    "Let's explore the hypothesis function $g$ scores for different cases, where the score $\\Sigma(g)$ is defined as the following:\n",
    "\n",
    "$\\Sigma(g)=$ (# of target functions agreeing with hypothesis on all 3 points)×3 + (# of target functions agreeing with hypothesis on exactly 2 points)×2 + (# of target functions agreeing with hypothesis on exactly 1 point)×1 + (# of target functions agreeing with hypothesis on 0 points)×0.\n",
    "\n",
    "(a) $g_1[\\mathcal{X}]=\\{ 0,0,1\\}$\n",
    "\n",
    "It agrees on: \n",
    "- all of 3 points for $h_1$\n",
    "- exactly 2 points for $h_2,h_3,h_4$\n",
    "- exactly 1 point for $h_5,h_6,h_7$\n",
    "\n",
    "Therefore, $\\Sigma(g_1)= 3 \\times 1 + 2 \\times 3 + 1 \\times 3 = 12\\,.$\n",
    "\n",
    "(b) $g_2[\\mathcal{X}]=\\{ 1,1,0\\}$ \n",
    "\n",
    "It agrees on: \n",
    "- all of 3 points for $h_8$\n",
    "- exactly 2 points for $h_2,h_3,h_8$\n",
    "- exactly 1 point for $h_4,h_3,h_2$\n",
    "\n",
    "Therefore, $\\Sigma(g_2)= 3 \\times 1 + 2 \\times 3 + 1 \\times 3 = 12\\,.$\n",
    "\n",
    "(c) $g_3[\\mathcal{X}]=\\{ 0,0,1\\} = g_1[\\mathcal{X}]$. \n",
    "\n",
    "It agrees on: \n",
    "- all of 3 points for $h_5$\n",
    "- exactly 2 points for $h_2,h_3,h_8$\n",
    "- exactly 1 point for $h_1,h_6,h_7$\n",
    "\n",
    "Therefore, $\\Sigma(g_3)= 12$.\n",
    "\n",
    "(d) $g_4[\\mathcal{X}]=\\{ 1,1,0\\} = g_2[\\mathcal{X}]$. \n",
    "\n",
    "It agrees on: \n",
    "- all of 3 points for $h_4$\n",
    "- exactly 2 points for $h_1,h_6,h_7$\n",
    "- exactly 1 point for $h_2,h_3,h_8$\n",
    "\n",
    "Therefore, $\\Sigma(g_4)= 12$.\n",
    "\n",
    "Hence, all the hypothesis are equivalent, given the above score formula."
   ]
  },
  {
   "cell_type": "markdown",
   "metadata": {},
   "source": [
    "## Problem 7 - 10: The Perceptron Learning Algorithm\n",
    "\n",
    "### Answers: [b] , [c] , [b] , [b]\n",
    "\n",
    "### Code:"
   ]
  },
  {
   "cell_type": "code",
   "execution_count": 17,
   "metadata": {},
   "outputs": [],
   "source": [
    "import numpy as np\n",
    "import matplotlib.pyplot as plt\n",
    "\n",
    "N1=10   \n",
    "N2=100\n",
    "Nruns=1000\n",
    "\n",
    "def gen_points_2d(N,xleft=-1,xright=1,yleft=-1,yright=1):\n",
    "    pts=[[np.random.uniform(xleft,xright),np.random.uniform(yleft,yright)] for i in range(N)]\n",
    "    return pts\n",
    "\n",
    "def extract_x(lst):\n",
    "    return list(list(zip(*lst))[0])\n",
    "def extract_y(lst):\n",
    "    return list(list(zip(*lst))[1])\n",
    "\n",
    "def gen_line():\n",
    "    x1,x2,y1,y2=np.random.uniform(-1,1),np.random.uniform(-1,1),np.random.uniform(-1,1),np.random.uniform(-1,1)\n",
    "    m=(y2-y1)/(x2-x1)\n",
    "    b=(y1*x2-y2*x1)/(x2-x1)\n",
    "    return m,b\n",
    "    \n",
    "def f(x,m,b):\n",
    "    return m*x+b\n",
    "\n",
    "def gen_input(N_pts,m,b,plot=True):\n",
    "    data=gen_points_2d(N_pts)\n",
    "    output=[]\n",
    "    x0=extract_x(data)\n",
    "    y0=extract_y(data)\n",
    "    for i in range(N_pts):\n",
    "        if(f(x0[i],m,b)>y0[i]): output.append(1.)\n",
    "        else: output.append(-1.)\n",
    "    if(plot==True):\n",
    "        col=[]\n",
    "        for i in range(len(output)):\n",
    "            if(output[i]>0): col.append('red')\n",
    "            else: col.append('green')\n",
    "        x=np.linspace(-1,1,100)\n",
    "        plt.plot(x,f(x,m,b),color='blue')\n",
    "        plt.scatter(x0,y0,color=col)\n",
    "        plt.xlim([-1, 1])\n",
    "        plt.ylim([-1, 1])\n",
    "    return np.array(data), np.array(output)\n",
    "\n",
    "def h(w,data,bias):\n",
    "    return np.sign(np.dot(w,data.T)+bias)\n",
    "\n",
    "def validating(m,b,w,bias,Nval=1000):\n",
    "    data,output=gen_input(Nval,m,b,plot=False)\n",
    "    g=h(w,data,bias)\n",
    "    testg=(g==output)\n",
    "    misclassified=len(np.where(testg==False)[0])\n",
    "    return misclassified/Nval\n",
    "\n",
    "def PLA_run(N_pts, plot=False):\n",
    "    #generating linearly separable points\n",
    "    m,b=gen_line()\n",
    "    data,output=gen_input(N_pts,m,b,plot)\n",
    "    \n",
    "    #initialization before learning\n",
    "    w=np.zeros(2)\n",
    "    bias=0\n",
    "    converged=False\n",
    "    iterations=0\n",
    "    #learning algorithm\n",
    "    while(converged==False):\n",
    "        g=h(w,data,bias)\n",
    "        testg=(g==output)\n",
    "        misclassified=np.where(testg==False)[0]\n",
    "        if(len(misclassified)>0):\n",
    "            i=misclassified[0]\n",
    "            w+=output[i]*data[i]\n",
    "            bias+=output[i]\n",
    "            iterations+=1\n",
    "        g=h(w,data,bias)\n",
    "        converged=np.all(g==output)\n",
    "    #validation\n",
    "    prob=validating(m,b,w,bias)\n",
    "    if(plot==True):\n",
    "        x=np.linspace(-1,1,100)\n",
    "        plt.plot(x,f(x,-w[0]/w[1],-bias/w[1]),color='blue',linestyle='dashed')\n",
    "        plt.show\n",
    "    return iterations,prob\n",
    "\n",
    "def average(N_pts,N_runs):\n",
    "    average_iter=0\n",
    "    average_prob=0\n",
    "    for i in range(N_runs):\n",
    "        average_iter+=PLA_run(N_pts)[0]\n",
    "        average_prob+=PLA_run(N_pts)[1]\n",
    "    print(\"#######\")\n",
    "    print(\"Here's the result for N_runs=\",N_runs,\"with N_pts=\",N_pts)\n",
    "    print(\"Average iterations for convergence:\",average_iter/N_runs)\n",
    "    print(\"Average misclassification rate:\",average_prob/N_runs)"
   ]
  },
  {
   "cell_type": "code",
   "execution_count": 217,
   "metadata": {},
   "outputs": [
    {
     "name": "stdout",
     "output_type": "stream",
     "text": [
      "#######\n",
      "Here's the result for N_runs= 1000 with N_pts= 10\n",
      "Average iterations for convergence: 11.311\n",
      "Average misclassification rate: 0.10873300000000007\n",
      "#######\n",
      "Here's the result for N_runs= 1000 with N_pts= 100\n",
      "Average iterations for convergence: 198.46\n",
      "Average misclassification rate: 0.013101999999999961\n"
     ]
    }
   ],
   "source": [
    "average(10,1000)\n",
    "average(100,1000) "
   ]
  },
  {
   "cell_type": "code",
   "execution_count": 39,
   "metadata": {},
   "outputs": [
    {
     "data": {
      "text/plain": [
       "(35, 0.067)"
      ]
     },
     "execution_count": 39,
     "metadata": {},
     "output_type": "execute_result"
    },
    {
     "data": {
      "image/png": "[encoded data removed]",
      "text/plain": [
       "<Figure size 432x288 with 1 Axes>"
      ]
     },
     "metadata": {
      "needs_background": "light"
     },
     "output_type": "display_data"
    }
   ],
   "source": [
    "#Here's a plotted example with 50 points. The solid line is the target function f while the dashed line is the g obtained by the Perceptron Learning Algorithm. In the output tuple, the first number is the number of iterations needed to converge, the second number represents a numerical estimate of the misclassification rate.\n",
    "\n",
    "PLA_run(50,plot=True)"
   ]
  }
 ],
 "metadata": {
  "kernelspec": {
   "display_name": "Python 3",
   "language": "python",
   "name": "python3"
  },
  "language_info": {
   "codemirror_mode": {
    "name": "ipython",
    "version": 3
   },
   "file_extension": ".py",
   "mimetype": "text/x-python",
   "name": "python",
   "nbconvert_exporter": "python",
   "pygments_lexer": "ipython3",
   "version": "3.7.4"
  },
  "latex_envs": {
   "LaTeX_envs_menu_present": false,
   "autoclose": true,
   "autocomplete": false,
   "bibliofile": "biblio.bib",
   "cite_by": "apalike",
   "current_citInitial": 1,
   "eqLabelWithNumbers": true,
   "eqNumInitial": 1,
   "hotkeys": {
    "equation": "Ctrl-E",
    "itemize": "Ctrl-I"
   },
   "labels_anchors": true,
   "latex_user_defs": false,
   "report_style_numbering": false,
   "user_envs_cfg": true
  }
 },
 "nbformat": 4,
 "nbformat_minor": 2
}
