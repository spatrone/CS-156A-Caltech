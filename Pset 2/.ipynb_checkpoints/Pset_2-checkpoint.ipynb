{
 "cells": [
  {
   "cell_type": "markdown",
   "metadata": {},
   "source": [
    "# CS 156a - Problem Set 2\n",
    "\n",
    "## Patrone Samuel, 2140749\n",
    "\n",
    "The following notebook is publicly available at https://github.com/spatrone/CS156A-Caltech.git."
   ]
  },
  {
   "cell_type": "markdown",
   "metadata": {},
   "source": [
    "## Problem 1\n",
    "\n",
    "### Answers: [b]\n",
    "\n",
    "### Code:\n"
   ]
  },
  {
   "cell_type": "code",
   "execution_count": 138,
   "metadata": {
    "code_folding": []
   },
   "outputs": [],
   "source": [
    "import numpy as np\n",
    "from IPython.display import clear_output\n",
    "import matplotlib.pyplot as plt\n",
    "import pickle\n",
    "import math as m\n",
    "\n",
    "def flipcoin_heads(Ntimes):\n",
    "    heads=0\n",
    "    for i in range(Ntimes):\n",
    "        heads+=np.random.randint(0,2)\n",
    "    return heads\n",
    "\n",
    "def get_freq(Ncoins,Nflips, c_spec=0):\n",
    "    c_rand=np.random.randint(0,Ncoins)\n",
    "    nu_min=1\n",
    "    nu_spec=0\n",
    "    for i in range(Ncoins):\n",
    "        nu_toss=flipcoin_heads(Nflips)/Nflips\n",
    "        if(i==c_spec): nu_spec=nu_toss\n",
    "        if(i==c_rand): nu_rand=nu_toss\n",
    "        if(nu_toss<nu_min): nu_min=nu_toss\n",
    "    return [nu_spec,nu_rand,nu_min]\n",
    "\n",
    "\n",
    "def run_exp(Ntimes,Ncoins,Nflips,filename='freq.npy',saveonfile=True):\n",
    "    freq=[]\n",
    "    for i in range(Ntimes):\n",
    "        clear_output(wait=True)\n",
    "        print(\"Current progress:\",np.round(i/Ntimes*100,2),\"%\")\n",
    "        freq.append(get_freq(Ncoins,Nflips, c_spec=0))\n",
    "    if(saveonfile==True):\n",
    "        with open('freq.npy', 'wb') as f:\n",
    "            np.save(f, np.array(freq))\n",
    "    return np.array(freq)"
   ]
  },
  {
   "cell_type": "code",
   "execution_count": 3,
   "metadata": {},
   "outputs": [],
   "source": [
    "#The generation of the distribution takes approximately 100 mins. If saveonfile=True, the full array is automatically saved on a .npy file.\n",
    "#freq=run_exp(100000,1000,10)"
   ]
  },
  {
   "cell_type": "code",
   "execution_count": 4,
   "metadata": {},
   "outputs": [],
   "source": [
    "with open('freq.npy', 'rb') as f:\n",
    "    freq= np.load(f)"
   ]
  },
  {
   "cell_type": "code",
   "execution_count": 10,
   "metadata": {},
   "outputs": [
    {
     "name": "stdout",
     "output_type": "stream",
     "text": [
      "The average value of nu_min is 0.03756\n"
     ]
    }
   ],
   "source": [
    "nu_min_av=np.sum(freq[:,2])/100000\n",
    "print(\"The average value of nu_min is\",nu_min_av)"
   ]
  },
  {
   "cell_type": "code",
   "execution_count": 125,
   "metadata": {},
   "outputs": [
    {
     "data": {
      "image/png": "[encoded data removed]",
      "text/plain": [
       "<Figure size 432x288 with 1 Axes>"
      ]
     },
     "metadata": {
      "needs_background": "light"
     },
     "output_type": "display_data"
    }
   ],
   "source": [
    "(freq_1, bins) = np.histogram(freq[:,0], bins=11)\n",
    "(freq_rand, bins) = np.histogram(freq[:,1], bins=11)\n",
    "(freq_min, bins) = np.histogram(freq[:,2], bins=3)\n",
    "freq_min=np.append(freq_min,np.zeros(8),0)\n",
    "\n",
    "xaxis=np.linspace(0,1,11)\n",
    "\n",
    "fig=plt.figure()\n",
    "width=0.03\n",
    "plt.bar(xaxis,freq_1,width,label=r'$\\nu_{1}$')\n",
    "plt.bar(xaxis+width,freq_rand,width,label=r'$\\nu_{rand}$')\n",
    "plt.bar(xaxis+width*2,freq_min,width,label=r'$\\nu_{min}$')\n",
    "plt.xticks(xaxis+width,['0','0.1','0.2','0.3','0.4','0.5','0.6','0.7','0.8','0.9','1'])\n",
    "plt.legend(loc='upper right')\n",
    "plt.show()"
   ]
  },
  {
   "cell_type": "markdown",
   "metadata": {},
   "source": [
    "## Problem 2\n",
    "\n",
    "### Answers: [d]\n",
    "\n",
    "### Derivation:\n"
   ]
  },
  {
   "cell_type": "markdown",
   "metadata": {},
   "source": [
    "We expect the single bin's Hoeffding Inequality, in formulae\n",
    "\n",
    "$$\n",
    "\\mathcal{P}[|\\nu-\\mu|>\\epsilon]\\le 2 e^{-2\\epsilon^2 N}\\,,\n",
    "$$\n",
    "\n",
    "to hold only for hypothesis $h$ fixed before the generation of the data set. Clearly, both $\\nu_{1}$ and $\\nu_{rand}$ are fixed before tossing the $1000$ coins, while $\\nu_{min}$ is decided only after generating the dataset. Here, $N$ is the size of the sample, i.e. the number of time we flip each coin.\n",
    "\n",
    "We first notice that the probability of heads is $\\mu=0.5$ for the three coins since they are assumed to be fair. Therefore, we can compute $|\\nu-\\mu|$ in the three cases.\n",
    "We can superimpose Hoeffding bound computed at various $\\epsilon$ to the previous histogram (once we rescale the frequencies in order to estimate probabilities). The following plot shows explicitly the violation of the Hoeffding Bound by the $\\nu_{min}$ distribution."
   ]
  },
  {
   "cell_type": "code",
   "execution_count": 149,
   "metadata": {},
   "outputs": [
    {
     "data": {
      "image/png": "[encoded data removed]",
      "text/plain": [
       "<Figure size 432x288 with 1 Axes>"
      ]
     },
     "metadata": {
      "needs_background": "light"
     },
     "output_type": "display_data"
    }
   ],
   "source": [
    "def Hoeff_bound(N,M,epsilon):\n",
    "    return 2*M*m.exp(-2*epsilon**2*N)\n",
    "\n",
    "absdev_1=np.abs(freq[:,0]-0.5)\n",
    "absdev_rand=np.abs(freq[:,1]-0.5)\n",
    "absdev_min=np.abs(freq[:,2]-0.5)\n",
    "\n",
    "(P_1, bins) = np.histogram(absdev_1, bins=6)\n",
    "(P_rand, bins) = np.histogram(absdev_rand, bins=6)\n",
    "(P_min, bins) = np.histogram(absdev_min, bins=3)\n",
    "\n",
    "P_1=P_1/100000\n",
    "P_rand=P_rand/100000\n",
    "P_min=np.insert(P_min,0,np.zeros(3),0)/100000\n",
    "\n",
    "xaxis=np.linspace(0,0.5,6)\n",
    "xfunc=np.linspace(0,0.6,100)\n",
    "bound=[Hoeff_bound(10,1,xfunc[i]) for i in range(len(xfunc))]\n",
    "\n",
    "fig=plt.figure()\n",
    "width=0.03\n",
    "plt.bar(xaxis,P_1,width,label=r'$\\mathcal{P}_{1}$')\n",
    "plt.bar(xaxis+width,P_rand,width,label=r'$\\mathcal{P}_{rand}$')\n",
    "plt.bar(xaxis+width*2,P_min,width,label=r'$\\mathcal{P}_{min}$')\n",
    "plt.plot(xfunc,bound,color='black',label='Hoeffding Bound')\n",
    "plt.xticks(xaxis+width,['0','0.1','0.2','0.3','0.4','0.5'])\n",
    "plt.legend(loc='upper right',bbox_to_anchor=(1.4, 1))\n",
    "plt.show()"
   ]
  },
  {
   "cell_type": "code",
   "execution_count": null,
   "metadata": {},
   "outputs": [],
   "source": []
  }
 ],
 "metadata": {
  "kernelspec": {
   "display_name": "Python 3",
   "language": "python",
   "name": "python3"
  },
  "language_info": {
   "codemirror_mode": {
    "name": "ipython",
    "version": 3
   },
   "file_extension": ".py",
   "mimetype": "text/x-python",
   "name": "python",
   "nbconvert_exporter": "python",
   "pygments_lexer": "ipython3",
   "version": "3.7.4"
  },
  "latex_envs": {
   "LaTeX_envs_menu_present": false,
   "autoclose": true,
   "autocomplete": false,
   "bibliofile": "biblio.bib",
   "cite_by": "apalike",
   "current_citInitial": 1,
   "eqLabelWithNumbers": true,
   "eqNumInitial": 1,
   "hotkeys": {
    "equation": "Ctrl-E",
    "itemize": "Ctrl-I"
   },
   "labels_anchors": true,
   "latex_user_defs": false,
   "report_style_numbering": false,
   "user_envs_cfg": true
  }
 },
 "nbformat": 4,
 "nbformat_minor": 2
}
