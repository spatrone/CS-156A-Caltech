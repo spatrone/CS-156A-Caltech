{
 "cells": [
  {
   "cell_type": "markdown",
   "metadata": {},
   "source": [
    "# CS 156a - Problem Set 2\n",
    "\n",
    "### Patrone Samuel, 2140749\n",
    "\n",
    "The following notebook is publicly available at https://github.com/spatrone/CS156A-Caltech.git."
   ]
  },
  {
   "cell_type": "markdown",
   "metadata": {
    "toc": true
   },
   "source": [
    "<h1>Table of Contents<span class=\"tocSkip\"></span></h1>\n",
    "<div class=\"toc\"><ul class=\"toc-item\"><li><ul class=\"toc-item\"><li><span><a href=\"#Patrone-Samuel,-2140749\" data-toc-modified-id=\"Patrone-Samuel,-2140749-0.1\">Patrone Samuel, 2140749</a></span></li></ul></li><li><span><a href=\"#Problem-1\" data-toc-modified-id=\"Problem-1-1\">Problem 1</a></span><ul class=\"toc-item\"><li><span><a href=\"#Answer:--[b]-$0.01$\" data-toc-modified-id=\"Answer:--[b]-$0.01$-1.1\">Answer:  [b] $0.01$</a></span></li><li><span><a href=\"#Code:\" data-toc-modified-id=\"Code:-1.2\">Code:</a></span></li></ul></li><li><span><a href=\"#Problem-2\" data-toc-modified-id=\"Problem-2-2\">Problem 2</a></span><ul class=\"toc-item\"><li><span><a href=\"#Answer:--[d]-$c_1-\\,-{\\rm-and}\\,--c_{rand}$\" data-toc-modified-id=\"Answer:--[d]-$c_1-\\,-{\\rm-and}\\,--c_{rand}$-2.1\">Answer:  [d] $c_1 \\, {\\rm and}\\,  c_{rand}$</a></span></li><li><span><a href=\"#Derivation:\" data-toc-modified-id=\"Derivation:-2.2\">Derivation:</a></span></li></ul></li><li><span><a href=\"#Problem-3\" data-toc-modified-id=\"Problem-3-3\">Problem 3</a></span><ul class=\"toc-item\"><li><span><a href=\"#Answer:--[e]-$(1-\\lambda)(1-\\mu)+\\lambda\\mu$\" data-toc-modified-id=\"Answer:--[e]-$(1-\\lambda)(1-\\mu)+\\lambda\\mu$-3.1\">Answer:  [e] $(1-\\lambda)(1-\\mu)+\\lambda\\mu$</a></span></li><li><span><a href=\"#Derivation:\" data-toc-modified-id=\"Derivation:-3.2\">Derivation:</a></span></li></ul></li><li><span><a href=\"#Problem-4\" data-toc-modified-id=\"Problem-4-4\">Problem 4</a></span><ul class=\"toc-item\"><li><span><a href=\"#Answer:-[b]-$0.5$\" data-toc-modified-id=\"Answer:-[b]-$0.5$-4.1\">Answer: [b] $0.5$</a></span></li><li><span><a href=\"#Derivation:\" data-toc-modified-id=\"Derivation:-4.2\">Derivation:</a></span></li></ul></li><li><span><a href=\"#Problems-5-6\" data-toc-modified-id=\"Problems-5-6-5\">Problems 5-6</a></span><ul class=\"toc-item\"><li><span><a href=\"#Answers:-[c]-$0.01$-,--[c]-$0.01$\" data-toc-modified-id=\"Answers:-[c]-$0.01$-,--[c]-$0.01$-5.1\">Answers: [c] $0.01$ ,  [c] $0.01$</a></span></li><li><span><a href=\"#Code:\" data-toc-modified-id=\"Code:-5.2\">Code:</a></span></li></ul></li><li><span><a href=\"#Problem-7\" data-toc-modified-id=\"Problem-7-6\">Problem 7</a></span><ul class=\"toc-item\"><li><span><a href=\"#Answer:-[a]-$1$\" data-toc-modified-id=\"Answer:-[a]-$1$-6.1\">Answer: [a] $1$</a></span></li><li><span><a href=\"#Code:\" data-toc-modified-id=\"Code:-6.2\">Code:</a></span></li></ul></li><li><span><a href=\"#Problem-8\" data-toc-modified-id=\"Problem-8-7\">Problem 8</a></span><ul class=\"toc-item\"><li><span><a href=\"#Answer:-[d]-$0.5$\" data-toc-modified-id=\"Answer:-[d]-$0.5$-7.1\">Answer: [d] $0.5$</a></span></li><li><span><a href=\"#Code:\" data-toc-modified-id=\"Code:-7.2\">Code:</a></span></li></ul></li><li><span><a href=\"#Problems-9-10\" data-toc-modified-id=\"Problems-9-10-8\">Problems 9-10</a></span><ul class=\"toc-item\"><li><span><a href=\"#Answers:-[a]-$g(x_1,x_2)={\\rm-sign}(-1-0.05-x_1+0.08-x_2+0.13-x_1-x_2+1.5-x_1^2+1.5-x_2^2)$-,-[b]-$0.1$\" data-toc-modified-id=\"Answers:-[a]-$g(x_1,x_2)={\\rm-sign}(-1-0.05-x_1+0.08-x_2+0.13-x_1-x_2+1.5-x_1^2+1.5-x_2^2)$-,-[b]-$0.1$-8.1\">Answers: [a] $g(x_1,x_2)={\\rm sign}(-1-0.05 x_1+0.08 x_2+0.13 x_1 x_2+1.5 x_1^2+1.5 x_2^2)$ , [b] $0.1$</a></span></li><li><span><a href=\"#Code:\" data-toc-modified-id=\"Code:-8.2\">Code:</a></span></li></ul></li></ul></div>"
   ]
  },
  {
   "cell_type": "markdown",
   "metadata": {},
   "source": [
    "## Problem 1\n",
    "\n",
    "### Answer:  [b] $0.01$\n",
    "\n",
    "### Code:\n"
   ]
  },
  {
   "cell_type": "code",
   "execution_count": 1,
   "metadata": {
    "code_folding": []
   },
   "outputs": [],
   "source": [
    "import numpy as np\n",
    "from IPython.display import clear_output\n",
    "import matplotlib.pyplot as plt\n",
    "import pickle\n",
    "import math as m\n",
    "\n",
    "def flipcoin_heads(Ntimes):\n",
    "    heads=0\n",
    "    for i in range(Ntimes):\n",
    "        heads+=np.random.randint(0,2)\n",
    "    return heads\n",
    "\n",
    "def get_freq(Ncoins,Nflips, c_spec=0):\n",
    "    c_rand=np.random.randint(0,Ncoins)\n",
    "    nu_min=1\n",
    "    nu_spec=0\n",
    "    for i in range(Ncoins):\n",
    "        nu_toss=flipcoin_heads(Nflips)/Nflips\n",
    "        if(i==c_spec): nu_spec=nu_toss\n",
    "        if(i==c_rand): nu_rand=nu_toss\n",
    "        if(nu_toss<nu_min): nu_min=nu_toss\n",
    "    return [nu_spec,nu_rand,nu_min]\n",
    "\n",
    "\n",
    "def run_exp(Ntimes,Ncoins,Nflips,filename='freq.npy',saveonfile=True):\n",
    "    freq=[]\n",
    "    for i in range(Ntimes):\n",
    "        clear_output(wait=True)\n",
    "        print(\"Current progress:\",np.round(i/Ntimes*100,2),\"%\")\n",
    "        freq.append(get_freq(Ncoins,Nflips, c_spec=0))\n",
    "    if(saveonfile==True):\n",
    "        with open('freq.npy', 'wb') as f:\n",
    "            np.save(f, np.array(freq))\n",
    "    return np.array(freq)"
   ]
  },
  {
   "cell_type": "code",
   "execution_count": 2,
   "metadata": {},
   "outputs": [],
   "source": [
    "#The generation of the distribution takes approximately 100 mins. If saveonfile=True, the full array is automatically saved on a .npy file.\n",
    "#freq=run_exp(100000,1000,10)"
   ]
  },
  {
   "cell_type": "code",
   "execution_count": 3,
   "metadata": {},
   "outputs": [],
   "source": [
    "with open('freq.npy', 'rb') as f:\n",
    "    freq= np.load(f)"
   ]
  },
  {
   "cell_type": "code",
   "execution_count": 4,
   "metadata": {},
   "outputs": [
    {
     "name": "stdout",
     "output_type": "stream",
     "text": [
      "The average value of nu_min is 0.03756\n"
     ]
    }
   ],
   "source": [
    "nu_min_av=np.sum(freq[:,2])/100000\n",
    "print(\"The average value of nu_min is\",nu_min_av)"
   ]
  },
  {
   "cell_type": "code",
   "execution_count": 5,
   "metadata": {},
   "outputs": [
    {
     "data": {
      "image/png": "[encoded data removed]",
      "text/plain": [
       "<Figure size 432x288 with 1 Axes>"
      ]
     },
     "metadata": {
      "needs_background": "light"
     },
     "output_type": "display_data"
    }
   ],
   "source": [
    "(freq_1, bins) = np.histogram(freq[:,0], bins=11)\n",
    "(freq_rand, bins) = np.histogram(freq[:,1], bins=11)\n",
    "(freq_min, bins) = np.histogram(freq[:,2], bins=3)\n",
    "freq_min=np.append(freq_min,np.zeros(8),0)\n",
    "\n",
    "xaxis=np.linspace(0,1,11)\n",
    "\n",
    "fig=plt.figure()\n",
    "width=0.03\n",
    "plt.bar(xaxis,freq_1,width,label=r'$\\nu_{1}$')\n",
    "plt.bar(xaxis+width,freq_rand,width,label=r'$\\nu_{rand}$')\n",
    "plt.bar(xaxis+width*2,freq_min,width,label=r'$\\nu_{min}$')\n",
    "plt.xticks(xaxis+width,['0','0.1','0.2','0.3','0.4','0.5','0.6','0.7','0.8','0.9','1'])\n",
    "plt.legend(loc='upper right')\n",
    "plt.show()"
   ]
  },
  {
   "cell_type": "markdown",
   "metadata": {},
   "source": [
    "## Problem 2\n",
    "\n",
    "### Answer:  [d] $c_1 \\, {\\rm and}\\,  c_{rand}$\n",
    "\n",
    "### Derivation:\n",
    "\n",
    "We expect the single bin's Hoeffding Inequality, in formulae\n",
    "\n",
    "$$\n",
    "\\mathcal{P}[|\\nu-\\mu|>\\epsilon]\\le 2 e^{-2\\epsilon^2 N}\\,,\n",
    "$$\n",
    "\n",
    "to hold only for hypothesis $h$ fixed before the generation of the data set. Clearly, both $\\nu_{1}$ and $\\nu_{rand}$ are fixed before tossing the $1000$ coins, while $\\nu_{min}$ is decided only after generating the dataset. Here, $N$ is the size of the sample, i.e. the number of times we flip each coin.\n",
    "\n",
    "We first notice that the probability of heads is $\\mu=0.5$ for the three coins since they are assumed to be fair. Therefore, we can compute $|\\nu-\\mu|$ in the three cases.\n",
    "We can superimpose Hoeffding bound computed at various $\\epsilon$ to the previous histogram (once we rescale the frequencies in order to estimate probabilities). The following plot shows explicitly the violation of the Hoeffding Bound by the $\\nu_{min}$ distribution."
   ]
  },
  {
   "cell_type": "code",
   "execution_count": 6,
   "metadata": {},
   "outputs": [
    {
     "data": {
      "image/png": "[encoded data removed]",
      "text/plain": [
       "<Figure size 432x288 with 1 Axes>"
      ]
     },
     "metadata": {
      "needs_background": "light"
     },
     "output_type": "display_data"
    }
   ],
   "source": [
    "def Hoeff_bound(N,M,epsilon):\n",
    "    return 2*M*m.exp(-2*epsilon**2*N)\n",
    "\n",
    "absdev_1=np.abs(freq[:,0]-0.5)\n",
    "absdev_rand=np.abs(freq[:,1]-0.5)\n",
    "absdev_min=np.abs(freq[:,2]-0.5)\n",
    "\n",
    "(P_1, bins) = np.histogram(absdev_1, bins=6)\n",
    "(P_rand, bins) = np.histogram(absdev_rand, bins=6)\n",
    "(P_min, bins) = np.histogram(absdev_min, bins=3)\n",
    "\n",
    "P_1=P_1/100000\n",
    "P_rand=P_rand/100000\n",
    "P_min=np.insert(P_min,0,np.zeros(3),0)/100000\n",
    "\n",
    "xaxis=np.linspace(0,0.5,6)\n",
    "xfunc=np.linspace(0,0.6,100)\n",
    "bound=[Hoeff_bound(10,1,xfunc[i]) for i in range(len(xfunc))]\n",
    "\n",
    "fig=plt.figure()\n",
    "width=0.03\n",
    "plt.bar(xaxis,P_1,width,label=r'$\\mathcal{P}_{1}$')\n",
    "plt.bar(xaxis+width,P_rand,width,label=r'$\\mathcal{P}_{rand}$')\n",
    "plt.bar(xaxis+width*2,P_min,width,label=r'$\\mathcal{P}_{min}$')\n",
    "plt.plot(xfunc,bound,color='black',label='Hoeffding Bound')\n",
    "plt.xticks(xaxis+width,['0','0.1','0.2','0.3','0.4','0.5'])\n",
    "plt.legend(loc='upper right',bbox_to_anchor=(1.4, 1))\n",
    "plt.show()"
   ]
  },
  {
   "cell_type": "markdown",
   "metadata": {},
   "source": [
    "## Problem 3\n",
    "\n",
    "### Answer:  [e] $(1-\\lambda)(1-\\mu)+\\lambda\\mu$\n",
    "\n",
    "### Derivation:\n",
    "\n",
    "In this problem, there are two binary functions $f$ and $h$.\n",
    "Let be $P(h({\\bf x})\\neq f({\\bf x}))=\\mu$ the probability of $h({\\bf x})$ in making a mistake in approximating $f({\\bf x})$. \n",
    "We now consider a noisy version of $f$ for which there is a probability $P(y = f({\\bf x})|{\\bf x})=\\lambda$ that $f({\\bf x})$ assign the \"correct\" value $y$ to the point ${\\bf x}$.\n",
    "\n",
    "If we want to compute the probability of error that $h({\\bf x})$ makes in approximating $y$, we have to consider the following two cases in which $h({\\bf x})$ gives the wrong estimate for $y$:\n",
    "\n",
    "- $h({\\bf x})=f({\\bf x})$, but $y\\neq f({\\bf x})$\n",
    "\n",
    "- $y = f({\\bf x})$, but $h({\\bf x})\\neq f({\\bf x})$\n",
    "\n",
    "In formulae, \n",
    "\n",
    "$$\n",
    "P(h({\\bf x})\\neq y)= P(h({\\bf x}) = f({\\bf x}))P(y \\neq f({\\bf x})|{\\bf x})+P(h({\\bf x})\\neq f({\\bf x}))P(y = f({\\bf x})|{\\bf x})\\\\=(1-\\mu)(1-\\lambda)+\\mu\\lambda\\,.\n",
    "$$"
   ]
  },
  {
   "cell_type": "markdown",
   "metadata": {},
   "source": [
    "## Problem 4\n",
    "\n",
    "### Answer: [b] $0.5$\n",
    "\n",
    "### Derivation:\n",
    "\n",
    "We just solve for the derivative of the previous expression with respect to $\\mu$ to be zero, i.e.\n",
    "\n",
    "$$\n",
    "\\frac{{\\rm d}P(h\\neq y)}{{\\rm d}\\mu} = \\frac{{\\rm d}}{{\\rm d}\\mu}\\left[(1-\\lambda)(1-\\mu)+\\lambda\\mu\\right]=-1+2\\lambda=0\\,\\rightarrow \\lambda=\\frac\n",
    "{1}{2}.\n",
    "$$"
   ]
  },
  {
   "cell_type": "markdown",
   "metadata": {},
   "source": [
    "## Problems 5-6\n",
    "\n",
    "### Answers: [c] $0.01$ ,  [c] $0.01$\n",
    "\n",
    "### Code:"
   ]
  },
  {
   "cell_type": "code",
   "execution_count": 22,
   "metadata": {
    "code_folding": []
   },
   "outputs": [],
   "source": [
    "import numpy as np\n",
    "import matplotlib.pyplot as plt\n",
    "\n",
    "def f(x,m,b):\n",
    "    return m*x+b\n",
    "\n",
    "def gen_points_2d_bias(N,xleft=-1,xright=1,yleft=-1,yright=1):\n",
    "    pts=[[1,np.random.uniform(xleft,xright),np.random.uniform(yleft,yright)] for i in range(N)]\n",
    "    return np.array(pts)\n",
    "\n",
    "def gen_line():\n",
    "    x1,x2,y1,y2=np.random.uniform(-1,1),np.random.uniform(-1,1),np.random.uniform(-1,1),np.random.uniform(-1,1)\n",
    "    m=(y2-y1)/(x2-x1)\n",
    "    b=(y1*x2-y2*x1)/(x2-x1)\n",
    "    return m,b\n",
    "    \n",
    "def gen_bias_input(N_pts,m,b,plot=True):\n",
    "    data=gen_points_2d_bias(N_pts)\n",
    "    output=[]\n",
    "    x0=data[:,1]\n",
    "    y0=data[:,2]\n",
    "    for i in range(N_pts):\n",
    "        if(f(x0[i],m,b)>y0[i]): output.append(1.)\n",
    "        else: output.append(-1.)\n",
    "    if(plot==True):\n",
    "        col=[]\n",
    "        for i in range(len(output)):\n",
    "            if(output[i]>0): col.append('red')\n",
    "            else: col.append('green')\n",
    "        x=np.linspace(-1,1,100)\n",
    "        plt.plot(x,f(x,m,b),color='blue',label='true')\n",
    "        plt.scatter(x0,y0,color=col)\n",
    "        plt.xlim([-1, 1])\n",
    "        plt.ylim([-1, 1])\n",
    "    return data, np.array(output)\n",
    "\n",
    "def linear_regression_w(X,y):\n",
    "    return np.dot(np.linalg.pinv(X),y)\n",
    "\n",
    "def h(w,data):\n",
    "    return np.sign(np.dot(w,data.T))\n",
    "\n",
    "def Eout_estimate(m,b,w,Nval=1000):\n",
    "    data,output=gen_bias_input(Nval,m,b,plot=False)\n",
    "    g=h(w,data)\n",
    "    testg=(g==output)\n",
    "    Eout=len(np.where(testg==False)[0])\n",
    "    return Eout/Nval\n",
    "\n",
    "def linreg_run(N_pts,plot=False):\n",
    "    \n",
    "    #Generating linearly separable points\n",
    "    m,b=gen_line()\n",
    "    data,y=gen_bias_input(N_pts,m,b,plot=plot)\n",
    "    \n",
    "    #Computing linear regression weights\n",
    "    w=linear_regression_w(data,y)\n",
    "    \n",
    "    #Ein computation\n",
    "    g=h(w,data)\n",
    "    testg=(g==y)\n",
    "    Ein=len(np.where(testg==False)[0])/N_pts\n",
    "    \n",
    "    #Eout computation \n",
    "    Eout=Eout_estimate(m,b,w)\n",
    "    \n",
    "    #Plot\n",
    "    if(plot==True):\n",
    "        x=np.linspace(-1,1,100)\n",
    "        plt.plot(x,f(x,-w[1]/w[2],-w[0]/w[2]),color='blue',linestyle='dashed',label='lin_reg')\n",
    "        plt.legend()\n",
    "        plt.show\n",
    "    return w, Ein, Eout\n",
    "\n",
    "def average_linreg(N_pts,N_runs):\n",
    "    average_Ein=0\n",
    "    average_Eout=0\n",
    "    for i in range(N_runs):\n",
    "        exp=linreg_run(N_pts)\n",
    "        average_Ein+=exp[1]\n",
    "        average_Eout+=exp[2]\n",
    "    print(\"#######\")\n",
    "    print(\"Here's the result for N_runs=\",N_runs,\"with N_pts=\",N_pts)\n",
    "    print(\"Average Ein:\",average_Ein/N_runs)\n",
    "    print(\"Average Eout:\",average_Eout/N_runs)"
   ]
  },
  {
   "cell_type": "code",
   "execution_count": 23,
   "metadata": {},
   "outputs": [
    {
     "name": "stdout",
     "output_type": "stream",
     "text": [
      "#######\n",
      "Here's the result for N_runs= 1000 with N_pts= 100\n",
      "Average Ein: 0.038200000000000046\n",
      "Average Eout: 0.04774\n"
     ]
    }
   ],
   "source": [
    "Npts=100  \n",
    "Nruns=1000\n",
    "\n",
    "average_linreg(Npts,Nruns)"
   ]
  },
  {
   "cell_type": "markdown",
   "metadata": {},
   "source": [
    "## Problem 7\n",
    "\n",
    "### Answer: [a] $1$\n",
    "\n",
    "### Code:"
   ]
  },
  {
   "cell_type": "code",
   "execution_count": 24,
   "metadata": {},
   "outputs": [],
   "source": [
    "def PLA_run_linreginit(N_pts, plot=False):\n",
    "    \n",
    "    #Generating linearly separable points\n",
    "    m,b=gen_line()\n",
    "    data,y=gen_bias_input(N_pts,m,b,plot)\n",
    "    \n",
    "    #Initialization weights with linear regression\n",
    "    w=linear_regression_w(data,y)\n",
    "    if(plot==True):\n",
    "        x=np.linspace(-1,1,100)\n",
    "        plt.plot(x,f(x,-w[1]/w[2],-w[0]/w[2]),color='blue',linestyle='dotted',label='linreg')\n",
    "    \n",
    "    #Initialization\n",
    "    converged=False\n",
    "    iterations=0\n",
    "    \n",
    "    #Learning algorithm\n",
    "    while(converged==False):\n",
    "        g=h(w,data)\n",
    "        testg=(g==y)\n",
    "        misclassified=np.where(testg==False)[0]\n",
    "        if(len(misclassified)>0):\n",
    "            mis_index=np.random.randint(0, len(misclassified))\n",
    "            i=misclassified[mis_index]\n",
    "            w+=y[i]*data[i]\n",
    "            iterations+=1\n",
    "        g=h(w,data)\n",
    "        converged=np.all(g==y)\n",
    "    if(plot==True):\n",
    "        x=np.linspace(-1,1,100)\n",
    "        plt.plot(x,f(x,-w[1]/w[2],-w[0]/w[2]),color='blue',linestyle='dashed',label='PLA')\n",
    "        plt.legend()\n",
    "        plt.show\n",
    "    return w,iterations\n",
    "\n",
    "def average_PLA(N_pts,N_runs):\n",
    "    average_iter=0\n",
    "    for i in range(N_runs):\n",
    "        average_iter=PLA_run_linreginit(Npts)[1]\n",
    "    print(\"#######\")\n",
    "    print(\"Here's the result for N_runs=\",N_runs,\"with N_pts=\",N_pts)\n",
    "    print(\"Average iterations for convergence:\",average_iter/N_runs)"
   ]
  },
  {
   "cell_type": "code",
   "execution_count": 25,
   "metadata": {},
   "outputs": [
    {
     "name": "stdout",
     "output_type": "stream",
     "text": [
      "#######\n",
      "Here's the result for N_runs= 1000 with N_pts= 10\n",
      "Average iterations for convergence: 0.0\n"
     ]
    }
   ],
   "source": [
    "Npts=10\n",
    "Nruns=1000\n",
    "\n",
    "average_PLA(Npts,Nruns)"
   ]
  },
  {
   "cell_type": "code",
   "execution_count": 31,
   "metadata": {},
   "outputs": [
    {
     "data": {
      "image/png": "[encoded data removed]",
      "text/plain": [
       "<Figure size 432x288 with 1 Axes>"
      ]
     },
     "metadata": {
      "needs_background": "light"
     },
     "output_type": "display_data"
    }
   ],
   "source": [
    "### Plotted example\n",
    "ex=PLA_run_linreginit(10, plot=True)"
   ]
  },
  {
   "cell_type": "markdown",
   "metadata": {},
   "source": [
    "## Problem 8\n",
    "\n",
    "### Answer: [d] $0.5$ \n",
    "\n",
    "### Code:"
   ]
  },
  {
   "cell_type": "code",
   "execution_count": 12,
   "metadata": {},
   "outputs": [],
   "source": [
    "%reset -f\n",
    "import numpy as np\n",
    "import matplotlib.pyplot as plt\n",
    "\n",
    "def f(x):\n",
    "    return x[0]**2+x[1]**2-0.6\n",
    "\n",
    "def line(x,m,b):\n",
    "    return m*x+b\n",
    "\n",
    "def gen_points_2d_bias(N,xleft=-1,xright=1,yleft=-1,yright=1):\n",
    "    pts=[[1,np.random.uniform(xleft,xright),np.random.uniform(yleft,yright)] for i in range(N)]\n",
    "    return np.array(pts)\n",
    "\n",
    "def add_noise(y,percentage):\n",
    "    nflips=np.int(len(y)*percentage/100)\n",
    "    randindex=np.random.choice(range(len(y)), nflips, replace=False)\n",
    "    for i in range(nflips):\n",
    "        y[randindex[i]]*=-1\n",
    "    return y\n",
    "\n",
    "def gen_bias_input(N_pts,ftarget,noise=0,plot=True):\n",
    "    data=gen_points_2d_bias(N_pts)\n",
    "    y=np.sign(ftarget(data[:,1:3].T))\n",
    "    if(noise!=0):\n",
    "        y=add_noise(y,noise)\n",
    "    if(plot==True):\n",
    "        col=[]\n",
    "        for i in range(len(y)):\n",
    "            if(y[i]>0): col.append('red')\n",
    "            else: col.append('green')\n",
    "        x0=np.linspace(-1,1,100)\n",
    "        y0=np.linspace(-1,1,100)\n",
    "        x0,y0=np.meshgrid(x0,y0)\n",
    "        plt.contour(x0,y0,ftarget([x0,y0]),[0],colors='blue',linestyles='solid')\n",
    "        plt.scatter(data[:,1],data[:,2],color=col)\n",
    "        plt.xlim([-1, 1])\n",
    "        plt.ylim([-1, 1])\n",
    "    return data, y\n",
    "\n",
    "def h(w,data):\n",
    "    return np.sign(np.dot(w,data.T))\n",
    "\n",
    "def Eout_estimate(ftarget,w,Nval=1000):\n",
    "    data,output=gen_bias_input(Nval,ftarget,plot=False)\n",
    "    g=h(w,data)\n",
    "    testg=(g==output)\n",
    "    Eout=len(np.where(testg==False)[0])\n",
    "    return Eout/Nval\n",
    "\n",
    "def linear_regression_w(X,y):\n",
    "    return np.dot(np.linalg.pinv(X),y)\n",
    "\n",
    "def linreg_run_linear(N_pts,ftarget,noise=0,plot=False):\n",
    "    \n",
    "    #Generating non-linearly separable points\n",
    "    data,y=gen_bias_input(N_pts,ftarget,noise=noise,plot=plot)\n",
    "    \n",
    "    #Computing linear regression weights\n",
    "    w=linear_regression_w(data,y)\n",
    "    \n",
    "    #Ein computation\n",
    "    g=h(w,data)\n",
    "    testg=(g==y)\n",
    "    Ein=len(np.where(testg==False)[0])/N_pts\n",
    "    \n",
    "    #Eout computation \n",
    "    Eout=Eout_estimate(ftarget,w)\n",
    "    \n",
    "    #Plot\n",
    "    if(plot==True):\n",
    "        x=np.linspace(-1,1,100)\n",
    "        plt.plot(x,line(x,-w[1]/w[2],-w[0]/w[2]),color='blue',linestyle='dashed',label='lin_reg')\n",
    "        plt.legend()\n",
    "        plt.show\n",
    "    return w, Ein, Eout\n",
    "\n",
    "def average_linreg_linear(N_pts,N_runs,ftarget,noise=0):\n",
    "    average_Ein=0\n",
    "    average_Eout=0\n",
    "    for i in range(N_runs):\n",
    "        exp=linreg_run_linear(N_pts,ftarget,noise=noise)\n",
    "        average_Ein+=exp[1]\n",
    "        average_Eout+=exp[2]\n",
    "    print(\"#######\")\n",
    "    print(\"Here's the result for N_runs=\",N_runs,\"with N_pts=\",N_pts)\n",
    "    print(\"Average Ein:\",average_Ein/N_runs)\n",
    "    print(\"Average Eout:\",average_Eout/N_runs)"
   ]
  },
  {
   "cell_type": "code",
   "execution_count": 13,
   "metadata": {},
   "outputs": [
    {
     "name": "stdout",
     "output_type": "stream",
     "text": [
      "#######\n",
      "Here's the result for N_runs= 1000 with N_pts= 1000\n",
      "Average Ein: 0.505258\n",
      "Average Eout: 0.5248650000000001\n"
     ]
    }
   ],
   "source": [
    "average_linreg_linear(1000,1000,f,noise=10)"
   ]
  },
  {
   "cell_type": "code",
   "execution_count": 14,
   "metadata": {},
   "outputs": [
    {
     "data": {
      "image/png": "[encoded data removed]",
      "text/plain": [
       "<Figure size 432x288 with 1 Axes>"
      ]
     },
     "metadata": {
      "needs_background": "light"
     },
     "output_type": "display_data"
    }
   ],
   "source": [
    "# Plotted Example\n",
    "\n",
    "ex=linreg_run_linear(100,f,noise=10,plot=True)"
   ]
  },
  {
   "cell_type": "markdown",
   "metadata": {},
   "source": [
    "## Problems 9-10\n",
    "\n",
    "### Answers: [a] $g(x_1,x_2)={\\rm sign}(-1-0.05 x_1+0.08 x_2+0.13 x_1 x_2+1.5 x_1^2+1.5 x_2^2)$ , [b] $0.1$\n",
    "\n",
    "### Code:"
   ]
  },
  {
   "cell_type": "code",
   "execution_count": 15,
   "metadata": {},
   "outputs": [],
   "source": [
    "def nonlin_transform(data):\n",
    "    return np.column_stack((data[:,0],data[:,1],data[:,2],data[:,1]*data[:,2],data[:,1]**2,data[:,2]**2))\n",
    "\n",
    "def Eout_estimate_nonlinear(ftarget,w,noise=0,Nval=1000):\n",
    "    data,output=gen_bias_input(Nval,ftarget,noise=noise,plot=False)\n",
    "    data=nonlin_transform(data)\n",
    "    g=h(w,data)\n",
    "    testg=(g==output)\n",
    "    Eout=len(np.where(testg==False)[0])\n",
    "    return Eout/Nval\n",
    "\n",
    "def h(w,data):\n",
    "    return np.sign(np.dot(w,data.T))\n",
    "\n",
    "def linreg_run_nonlinear(N_pts,ftarget,noise=0,plot=False):\n",
    "    \n",
    "    #Generating non-linearly separable points\n",
    "    points,y=gen_bias_input(N_pts,ftarget,noise=noise,plot=plot)\n",
    "    \n",
    "    #Transform data into non-linear feature vector\n",
    "    data=nonlin_transform(points)\n",
    "    \n",
    "    #Computing linear regression weights\n",
    "    w=linear_regression_w(data,y)\n",
    "    \n",
    "    #Ein computation\n",
    "    g=h(w,data)\n",
    "    testg=(g==y)\n",
    "    Ein=len(np.where(testg==False)[0])/N_pts\n",
    "    \n",
    "    #Eout computation \n",
    "    Eout=Eout_estimate_nonlinear(ftarget,w,noise=noise)\n",
    "    \n",
    "    #Plot\n",
    "    if(plot==True):\n",
    "        x1=np.linspace(-1,1,100)\n",
    "        x2=np.linspace(-1,1,100)\n",
    "        x1,x2=np.meshgrid(x1,x2)\n",
    "        plt.contour(x1,x2,w[0]+w[1]*x1+w[2]*x2+w[3]*x1*x2+w[4]*x1**2+w[5]*x2**2,[0],colors='blue',linestyles='dashed')\n",
    "        plt.show\n",
    "    \n",
    "    return w, Ein, Eout\n",
    "\n",
    "def average_linreg_nonlinear(N_pts,N_runs,ftarget,noise=0):\n",
    "    sum_Ein=0\n",
    "    sum_Eout=0\n",
    "    sum_w=np.zeros(6)\n",
    "    for i in range(N_runs):\n",
    "        exp=linreg_run_nonlinear(N_pts,ftarget,noise=noise)\n",
    "        sum_w+=exp[0]\n",
    "        sum_Ein+=exp[1]\n",
    "        sum_Eout+=exp[2]\n",
    "    av_w=sum_w/N_runs\n",
    "    av_Ein=sum_Ein/N_runs\n",
    "    av_Eout=sum_Eout/N_runs\n",
    "    print(\"#######\")\n",
    "    print(\"Here's the result for N_runs=\",N_runs,\"with N_pts=\",N_pts)\n",
    "    print(\"Average weights:\",av_w)\n",
    "    print(\"Average Ein:\", av_Ein)\n",
    "    print(\"Average Eout:\",sum_Eout/N_runs)\n",
    "    return av_w,av_Ein,av_Eout\n",
    "\n",
    "def check_weights(av_w,given_w,name='Insert name',Nval=1000):\n",
    "    points=gen_points_2d_bias(Nval)\n",
    "    data=nonlin_transform(points)\n",
    "    g_av=h(av_w,data)\n",
    "    g_given=h(given_w,data)\n",
    "    testg=(g_av==g_given)\n",
    "    P_agree=len(np.where(testg==True)[0])\n",
    "    print('The function',name,'agrees with the solution of Linear Regression with a probability of',P_agree/Nval)\n",
    "    return P_agree/Nval"
   ]
  },
  {
   "cell_type": "code",
   "execution_count": 16,
   "metadata": {},
   "outputs": [
    {
     "name": "stdout",
     "output_type": "stream",
     "text": [
      "#######\n",
      "Here's the result for N_runs= 1000 with N_pts= 1000\n",
      "Average weights: [-9.92570638e-01 -7.26949696e-04  3.68746671e-03  9.20842355e-04\n",
      "  1.56513471e+00  1.55346432e+00]\n",
      "Average Ein: 0.12367900000000003\n",
      "Average Eout: 0.125895\n"
     ]
    }
   ],
   "source": [
    "w,Ein,Eout=average_linreg_nonlinear(1000,1000,f,noise=10)"
   ]
  },
  {
   "cell_type": "code",
   "execution_count": 17,
   "metadata": {},
   "outputs": [
    {
     "name": "stdout",
     "output_type": "stream",
     "text": [
      "The function [a] agrees with the solution of Linear Regression with a probability of 0.974\n",
      "The function [b] agrees with the solution of Linear Regression with a probability of 0.662\n",
      "The function [c] agrees with the solution of Linear Regression with a probability of 0.663\n",
      "The function [d] agrees with the solution of Linear Regression with a probability of 0.64\n",
      "The function [e] agrees with the solution of Linear Regression with a probability of 0.573\n"
     ]
    }
   ],
   "source": [
    "g1=np.array([-1,-0.05,0.08,0.13,1.5,1.5])\n",
    "g2=np.array([-1,-0.05,0.08,0.13,1.5,15])\n",
    "g3=np.array([-1,-0.05,0.08,0.13,15,1.5])\n",
    "g4=np.array([-1,-1.5,0.08,0.13,0.05,0.05])\n",
    "g5=np.array([-1,-0.05,0.08,1.5,0.15,0.15])\n",
    "\n",
    "t1=check_weights(w,g1,'[a]')\n",
    "t2=check_weights(w,g2,'[b]')\n",
    "t3=check_weights(w,g3,'[c]')\n",
    "t4=check_weights(w,g4,'[d]')\n",
    "t5=check_weights(w,g5,'[e]')"
   ]
  },
  {
   "cell_type": "code",
   "execution_count": 18,
   "metadata": {},
   "outputs": [
    {
     "data": {
      "image/png": "[encoded data removed]",
      "text/plain": [
       "<Figure size 432x288 with 1 Axes>"
      ]
     },
     "metadata": {
      "needs_background": "light"
     },
     "output_type": "display_data"
    }
   ],
   "source": [
    "# Plotted Example\n",
    "\n",
    "ex=linreg_run_nonlinear(100,f,noise=10,plot=True)"
   ]
  }
 ],
 "metadata": {
  "author": "CS 156a - Problem Set 2 ",
  "kernelspec": {
   "display_name": "Python 3",
   "language": "python",
   "name": "python3"
  },
  "language_info": {
   "codemirror_mode": {
    "name": "ipython",
    "version": 3
   },
   "file_extension": ".py",
   "mimetype": "text/x-python",
   "name": "python",
   "nbconvert_exporter": "python",
   "pygments_lexer": "ipython3",
   "version": "3.7.4"
  },
  "latex_envs": {
   "LaTeX_envs_menu_present": false,
   "autoclose": true,
   "autocomplete": false,
   "bibliofile": "biblio.bib",
   "cite_by": "apalike",
   "current_citInitial": 1,
   "eqLabelWithNumbers": true,
   "eqNumInitial": 1,
   "hotkeys": {
    "equation": "Ctrl-E",
    "itemize": "Ctrl-I"
   },
   "labels_anchors": true,
   "latex_user_defs": false,
   "report_style_numbering": false,
   "user_envs_cfg": true
  },
  "toc": {
   "base_numbering": 1,
   "nav_menu": {},
   "number_sections": false,
   "sideBar": true,
   "skip_h1_title": true,
   "title_cell": "Table of Contents",
   "title_sidebar": "Contents",
   "toc_cell": true,
   "toc_position": {
    "height": "calc(100% - 180px)",
    "left": "10px",
    "top": "150px",
    "width": "256px"
   },
   "toc_section_display": true,
   "toc_window_display": true
  }
 },
 "nbformat": 4,
 "nbformat_minor": 2
}
