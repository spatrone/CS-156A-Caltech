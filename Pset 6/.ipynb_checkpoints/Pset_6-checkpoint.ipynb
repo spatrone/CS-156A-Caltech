{
 "cells": [
  {
   "cell_type": "markdown",
   "metadata": {},
   "source": [
    "# CS 156a - Problem Set 6\n",
    "\n",
    "## Patrone Samuel, 2140749\n",
    "\n",
    "The following notebook is publicly available at https://github.com/spatrone/CS156A-Caltech.git."
   ]
  },
  {
   "cell_type": "markdown",
   "metadata": {},
   "source": [
    "## Problem 1\n",
    "\n",
    "### Answer: [b] In general, deterministic noise will increase.\n",
    "\n",
    "### Derivation:\n",
    "\n",
    "Given that we are using a less complex hypothesis in $\\mathcal{H}^\\prime\\subset\\mathcal{H}$, we expect the best fit $h^\\prime\\in\\mathcal{H}^\\prime$ in this less complex hypothesis space to have an higher deterministic noise since there will be more of the target function that cannot be captured by it. In more mathematical terms, the deterministic noise is represented by the bias, which naturally increases for less complex hypothesis. The bias can be seen as the asymptotic value at which both $E_in$ and $E_out$ converge for $N\\to\\infty$, in the case of zero stochastic noise, which is lower for more complex hypothesis."
   ]
  },
  {
   "cell_type": "code",
   "execution_count": null,
   "metadata": {},
   "outputs": [],
   "source": []
  }
 ],
 "metadata": {
  "kernelspec": {
   "display_name": "Python 3",
   "language": "python",
   "name": "python3"
  },
  "language_info": {
   "codemirror_mode": {
    "name": "ipython",
    "version": 3
   },
   "file_extension": ".py",
   "mimetype": "text/x-python",
   "name": "python",
   "nbconvert_exporter": "python",
   "pygments_lexer": "ipython3",
   "version": "3.7.4"
  },
  "latex_envs": {
   "LaTeX_envs_menu_present": false,
   "autoclose": true,
   "autocomplete": false,
   "bibliofile": "biblio.bib",
   "cite_by": "apalike",
   "current_citInitial": 1,
   "eqLabelWithNumbers": true,
   "eqNumInitial": 1,
   "hotkeys": {
    "equation": "Ctrl-E",
    "itemize": "Ctrl-I"
   },
   "labels_anchors": true,
   "latex_user_defs": false,
   "report_style_numbering": false,
   "user_envs_cfg": true
  },
  "toc": {
   "base_numbering": 1,
   "nav_menu": {},
   "number_sections": false,
   "sideBar": true,
   "skip_h1_title": true,
   "title_cell": "Table of Contents",
   "title_sidebar": "Contents",
   "toc_cell": false,
   "toc_position": {},
   "toc_section_display": true,
   "toc_window_display": false
  }
 },
 "nbformat": 4,
 "nbformat_minor": 2
}
