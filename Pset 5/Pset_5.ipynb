{
 "cells": [
  {
   "cell_type": "markdown",
   "metadata": {},
   "source": [
    "# CS 156a - Problem Set 5\n",
    "\n",
    "## Patrone Samuel, 2140749\n",
    "\n",
    "The following notebook is publicly available at https://github.com/spatrone/CS156A-Caltech.git."
   ]
  },
  {
   "cell_type": "markdown",
   "metadata": {},
   "source": [
    "## Problem 1\n",
    "\n",
    "### Answer: [c] $100$\n",
    "\n",
    "### Derivation:\n",
    "\n",
    "The expected value on a data set $\\mathcal{D}$ of $N$ samples of in-sample error for a noisy target function with variance $\\sigma^2$ using linear regression in $d$ dimension is\n",
    "\n",
    "\\begin{equation}\n",
    "\\mathbb{E}_{\\mathcal{D}}[E_{in}]=\\sigma^2\\left(1-\\frac{d+1}{N}\\right)\\,.\n",
    "\\end{equation}\n",
    "\n",
    "For $\\sigma=0.1$, $d=8$ and $\\mathbb{E}_{\\mathcal{D}}[E_{in}]\\ge 0.008$, we need at least \n",
    "\n",
    "\\begin{equation}\n",
    "N\\ge\\frac{d+1}{\\left(1-\\frac{\\mathbb{E}_{\\mathcal{D}}[E_{in}]}{\\sigma^2}\\right)}=\\frac{9}{\\left(1-\\frac{0.008}{(0.1)^2}\\right)}=45\\,.\n",
    "\\end{equation}\n"
   ]
  },
  {
   "cell_type": "code",
   "execution_count": 16,
   "metadata": {},
   "outputs": [
    {
     "name": "stdout",
     "output_type": "stream",
     "text": [
      "For N=45, we get an expected value for E_min of 0.008\n"
     ]
    }
   ],
   "source": [
    "def expEmin(N,sigma=0.1,d=8):\n",
    "    return sigma**2*(1-(d+1)/N)\n",
    "\n",
    "print(f'For N=45, we get an expected value for E_min of {expEmin(45):.3f}')"
   ]
  },
  {
   "cell_type": "markdown",
   "metadata": {},
   "source": [
    "## Problem 2\n",
    "\n",
    "### Answer: [] $$\n",
    "\n",
    "### Derivation:"
   ]
  }
 ],
 "metadata": {
  "kernelspec": {
   "display_name": "Python 3",
   "language": "python",
   "name": "python3"
  },
  "language_info": {
   "codemirror_mode": {
    "name": "ipython",
    "version": 3
   },
   "file_extension": ".py",
   "mimetype": "text/x-python",
   "name": "python",
   "nbconvert_exporter": "python",
   "pygments_lexer": "ipython3",
   "version": "3.7.4"
  },
  "latex_envs": {
   "LaTeX_envs_menu_present": false,
   "autoclose": true,
   "autocomplete": false,
   "bibliofile": "biblio.bib",
   "cite_by": "apalike",
   "current_citInitial": 1,
   "eqLabelWithNumbers": true,
   "eqNumInitial": 1,
   "hotkeys": {
    "equation": "Ctrl-E",
    "itemize": "Ctrl-I"
   },
   "labels_anchors": true,
   "latex_user_defs": false,
   "report_style_numbering": false,
   "user_envs_cfg": true
  },
  "toc": {
   "base_numbering": 1,
   "nav_menu": {},
   "number_sections": false,
   "sideBar": true,
   "skip_h1_title": true,
   "title_cell": "Table of Contents",
   "title_sidebar": "Contents",
   "toc_cell": false,
   "toc_position": {},
   "toc_section_display": true,
   "toc_window_display": false
  }
 },
 "nbformat": 4,
 "nbformat_minor": 2
}
