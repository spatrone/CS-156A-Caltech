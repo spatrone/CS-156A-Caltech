{
 "cells": [
  {
   "cell_type": "markdown",
   "metadata": {},
   "source": [
    "# CS 156a - Problem Set 3\n",
    "\n",
    "### Patrone Samuel, 2140749\n",
    "\n",
    "The following notebook is publicly available at https://github.com/spatrone/CS156A-Caltech.git."
   ]
  },
  {
   "cell_type": "markdown",
   "metadata": {},
   "source": [
    "## Problems 1-3\n",
    "\n",
    "### Answers:  [b] $1000$,  [c] $1500$, [d] $2000$\n",
    "\n",
    "### Derivation:\n",
    "\n",
    "We want to determine what is the least number of samples $N$ needed for different number of hypothesis $M$ such that the Hoeffding bound $B=0.05$, setting the tolerance $\\epsilon=0.03$.\n",
    "To evaluate this number, it is sufficient to invert the formula of the bound, i.e.\n",
    "\n",
    "$$\n",
    "2 M e^{-2\\epsilon^2 N} = B \\rightarrow N=-\\frac{1}{2\\epsilon^2}\\log\\left(\\frac{B}{2 M}\\right)\\,.\n",
    "$$"
   ]
  },
  {
   "cell_type": "code",
   "execution_count": 12,
   "metadata": {},
   "outputs": [
    {
     "name": "stdout",
     "output_type": "stream",
     "text": [
      "The number of samples needed to satisfy the Hoeffding probability bound of 0.03 with a tolerance of 0.05 is 839 for M= 1 \n",
      "\n",
      "The number of samples needed to satisfy the Hoeffding probability bound of 0.03 with a tolerance of 0.05 is 1300 for M= 10 \n",
      "\n",
      "The number of samples needed to satisfy the Hoeffding probability bound of 0.03 with a tolerance of 0.05 is 1760 for M= 100 \n",
      "\n"
     ]
    }
   ],
   "source": [
    "import numpy as np\n",
    "import math as m\n",
    "\n",
    "def N(M,B=0.03,eps=0.05):\n",
    "    N=-1/(2*eps**2)*m.log(B/(2*M))\n",
    "    print('The number of samples needed to satisfy the Hoeffding probability bound of',B,'with a tolerance of',eps,'is',int(N), 'for M=',M,'\\n')\n",
    "\n",
    "N(1)\n",
    "N(10)\n",
    "N(100)"
   ]
  },
  {
   "attachments": {},
   "cell_type": "markdown",
   "metadata": {},
   "source": [
    "## Problems 4\n",
    "\n",
    "### Answer:  [b] 5\n",
    "\n",
    "### Derivation:\n",
    "\n",
    "A break point $k$ for an hypothesis set $\\mathcal{H}$ is defined as the minimum number of points that cannot be shattered by $\\mathcal{H}$. In other words, it doesn't exist any set of $k-$points for which the hypothesis set is able to reproduce all the $2^k$ possible classifications. \n",
    "\n",
    "We now investigate the break point for the Perceptron model in $3D$.\n",
    "\n",
    "We first observe that it is always possible to find a set of $4$ points that can be completely shattered by the Perceptron. Take the fourth point to be not co-planar with the other three: we will call the plane defined by the first three points $\\Sigma$ in the following. \n",
    "The intersection of our classification plane (not co-planar with the first three points) with $\\Sigma$ is a line and we already know a line can completely shatter three points on a plane. Furthermore, we can tilt the angle of the plane to reproduce both possible classifications for the $4$th point. Since we found a configuration of $4$ points that can be shattered by a plane in $3D$, the break point for the $3D$ Perceptron must be at least $5$.\n",
    "\n",
    "We now give a geometric proof that the break point for the $3D$ Perceptron is $5$. Without loss of generality, we take the five points to be not-coplanar. We choose four of them in order to make a tetrahedron such that the fifth point lay outside of it, within the partition of the space identified by one of the faces of the tetrahedron $\\Sigma^\\prime$. We label the point outside the tetrahedron $5$, the three points that define $\\Sigma^\\prime$ as $2,3,4$ and the opposite point $1$. The dichotomy $\\{+1,-1,-1,-1,+1\\}$, cannot be realized by any plane, since the portion of space delimited by any classification plane which separate all the points of $\\Sigma^\\prime$ from point $1$, will also include by construction point $5$, attributing to point $5$ the same classification value as points $2,3,4$. Hence, the break point for the $3D$ Perceptron is $5$.\n",
    "\n",
    "See attached some explanatory drawings."
   ]
  },
  {
   "cell_type": "code",
   "execution_count": 13,
   "metadata": {},
   "outputs": [
    {
     "data": {
      "text/html": [
       "<img src=\"IMG_0163.jpg\" width=\"400\" height=\"400\"/>"
      ],
      "text/plain": [
       "<IPython.core.display.Image object>"
      ]
     },
     "execution_count": 13,
     "metadata": {},
     "output_type": "execute_result"
    }
   ],
   "source": [
    "from IPython.display import Image\n",
    "Image(url= \"IMG_0163.jpg\", width=400, height=400)"
   ]
  },
  {
   "cell_type": "markdown",
   "metadata": {},
   "source": [
    "## Problem 5\n",
    "\n",
    "### Answer:  [b]\n",
    "\n",
    "### Derivation:\n",
    "\n",
    "A growth function $m_{\\mathcal{H}}(N)$ is well defined if one of the two following conditions are satisfied:\n",
    "\n",
    "\\begin{itemize}\n",
    "\\item $m_{\\mathcal{H}}(N)= 2^N$ for any N, or\n",
    "\\item $m_{\\mathcal{H}}(N)$ is a polynomial function of N such that $m_{\\mathcal{H}}(N)\\le 2^N$ for any $N$.\n",
    "\\end{itemize}\n",
    "\n",
    "In the following, we verify the proposed functions.\n",
    "\n",
    "\\begin{itemize}\n",
    "i) $f_1(N)=1+N \\le 2^N$ OK!\n",
    "\n",
    "ii) $f_2(N)=1+N+{N\\choose 2}=1+N+\\frac{N!}{2!N-2!}=1+N+\\frac{N!}{2!N-2!}=1+N+\\frac{N(N-1)}{2}=1+\\frac{N(N+1)}{2}\\le 2^N$ OK!\n",
    "\n",
    "iii) $f_3(N)=\\sum^{[\\sqrt{N}]}_{i=1} {N\\choose i} \\ge \\sum^{[\\sqrt{N}]}_{i=0}{[\\sqrt{N}]\\choose i}-1=2^{[\\sqrt{N}]}-1$. Hence, $f_3(N)$ is greater than a non-polynomial function in N, although smaller than $2^N$ for $N\\ge 1$. KO!\n",
    "\n",
    "iv) $f_4(N)=2^{[N/2]}$. Again, it is a non-polynomial function smaller than $2^N$ for $N\\ge 1$.  KO!\n",
    "\n",
    "v) $f_5(N)=2^{N}$. Trivially, this is a valid growth function.\n",
    "\\end{itemize}"
   ]
  },
  {
   "cell_type": "code",
   "execution_count": null,
   "metadata": {},
   "outputs": [],
   "source": []
  }
 ],
 "metadata": {
  "author": "CS 156a - Problem Set 2 ",
  "kernelspec": {
   "display_name": "Python 3",
   "language": "python",
   "name": "python3"
  },
  "language_info": {
   "codemirror_mode": {
    "name": "ipython",
    "version": 3
   },
   "file_extension": ".py",
   "mimetype": "text/x-python",
   "name": "python",
   "nbconvert_exporter": "python",
   "pygments_lexer": "ipython3",
   "version": "3.7.4"
  },
  "latex_envs": {
   "LaTeX_envs_menu_present": false,
   "autoclose": true,
   "autocomplete": false,
   "bibliofile": "biblio.bib",
   "cite_by": "apalike",
   "current_citInitial": 1,
   "eqLabelWithNumbers": true,
   "eqNumInitial": 1,
   "hotkeys": {
    "equation": "Ctrl-E",
    "itemize": "Ctrl-I"
   },
   "labels_anchors": true,
   "latex_user_defs": false,
   "report_style_numbering": false,
   "user_envs_cfg": true
  },
  "toc": {
   "base_numbering": 1,
   "nav_menu": {},
   "number_sections": false,
   "sideBar": true,
   "skip_h1_title": true,
   "title_cell": "Table of Contents",
   "title_sidebar": "Contents",
   "toc_cell": false,
   "toc_position": {
    "height": "calc(100% - 180px)",
    "left": "10px",
    "top": "150px",
    "width": "256px"
   },
   "toc_section_display": true,
   "toc_window_display": true
  }
 },
 "nbformat": 4,
 "nbformat_minor": 2
}
