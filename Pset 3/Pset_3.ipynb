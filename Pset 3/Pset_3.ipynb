{
 "cells": [
  {
   "cell_type": "markdown",
   "metadata": {},
   "source": [
    "# CS 156a - Problem Set 3\n",
    "\n",
    "### Patrone Samuel, 2140749\n",
    "\n",
    "The following notebook is publicly available at https://github.com/spatrone/CS156A-Caltech.git."
   ]
  },
  {
   "cell_type": "markdown",
   "metadata": {},
   "source": [
    "## Problems 1-3\n",
    "\n",
    "### Answers:  [b] $1000$,  [c] $1500$, [d] $2000$\n",
    "\n",
    "### Derivation:\n",
    "\n",
    "We want to determine what is the least number of samples $N$ needed for different number of hypothesis $M$ such that the Hoeffding bound $B=0.05$, setting the tolerance $\\epsilon=0.03$.\n",
    "To evaluate this number, it is sufficient to invert the formula of the bound, i.e.\n",
    "\n",
    "$$\n",
    "2 M e^{-2\\epsilon^2 N} = B \\rightarrow N=-\\frac{1}{2\\epsilon^2}\\log\\left(\\frac{B}{2 M}\\right)\\,.\n",
    "$$"
   ]
  },
  {
   "cell_type": "code",
   "execution_count": 12,
   "metadata": {},
   "outputs": [
    {
     "name": "stdout",
     "output_type": "stream",
     "text": [
      "The number of samples needed to satisfy the Hoeffding probability bound of 0.03 with a tolerance of 0.05 is 839 for M= 1 \n",
      "\n",
      "The number of samples needed to satisfy the Hoeffding probability bound of 0.03 with a tolerance of 0.05 is 1300 for M= 10 \n",
      "\n",
      "The number of samples needed to satisfy the Hoeffding probability bound of 0.03 with a tolerance of 0.05 is 1760 for M= 100 \n",
      "\n"
     ]
    }
   ],
   "source": [
    "import numpy as np\n",
    "import math as m\n",
    "\n",
    "def N(M,B=0.03,eps=0.05):\n",
    "    N=-1/(2*eps**2)*m.log(B/(2*M))\n",
    "    print('The number of samples needed to satisfy the Hoeffding probability bound of',B,'with a tolerance of',eps,'is',int(N), 'for M=',M,'\\n')\n",
    "\n",
    "N(1)\n",
    "N(10)\n",
    "N(100)"
   ]
  },
  {
   "attachments": {},
   "cell_type": "markdown",
   "metadata": {},
   "source": [
    "## Problem 4\n",
    "\n",
    "### Answer:  [b] 5\n",
    "\n",
    "### Derivation:\n",
    "\n",
    "A break point $k$ for an hypothesis set $\\mathcal{H}$ is defined as the minimum number of points that cannot be shattered by $\\mathcal{H}$. In other words, it doesn't exist any set of $k-$points for which the hypothesis set is able to reproduce all the $2^k$ possible classifications. \n",
    "\n",
    "We now investigate the break point for the Perceptron model in $3D$.\n",
    "\n",
    "We first observe that it is always possible to find a set of $4$ points that can be completely shattered by the Perceptron. Take the fourth point to be not co-planar with the other three: we will call the plane defined by the first three points $\\Sigma$ in the following. \n",
    "The intersection of our classification plane (not co-planar with the first three points) with $\\Sigma$ is a line and we already know a line can completely shatter three points on a plane. Furthermore, we can tilt the angle of the plane to reproduce both possible classifications for the $4$th point. Since we found a configuration of $4$ points that can be shattered by a plane in $3D$, the break point for the $3D$ Perceptron must be at least $5$.\n",
    "\n",
    "We now give a geometric proof that the break point for the $3D$ Perceptron is $5$. Without loss of generality, we take the five points to be not-coplanar. We choose four of them in order to make a tetrahedron such that the fifth point lay outside of it, within the partition of the space identified by one of the faces of the tetrahedron $\\Sigma^\\prime$. We label the point outside the tetrahedron $5$, the three points that define $\\Sigma^\\prime$ as $2,3,4$ and the opposite point $1$. The dichotomy $\\{+1,-1,-1,-1,+1\\}$, cannot be realized by any plane, since the portion of space delimited by any classification plane which separate all the points of $\\Sigma^\\prime$ from point $1$, will also include by construction point $5$, attributing to point $5$ the same classification value as points $2,3,4$. Hence, the break point for the $3D$ Perceptron is $5$.\n",
    "\n",
    "See attached some explanatory drawings."
   ]
  },
  {
   "cell_type": "code",
   "execution_count": 13,
   "metadata": {},
   "outputs": [
    {
     "data": {
      "text/html": [
       "<img src=\"IMG_0163.jpg\" width=\"400\" height=\"400\"/>"
      ],
      "text/plain": [
       "<IPython.core.display.Image object>"
      ]
     },
     "execution_count": 13,
     "metadata": {},
     "output_type": "execute_result"
    }
   ],
   "source": [
    "from IPython.display import Image\n",
    "Image(url= \"IMG_0163.jpg\", width=400, height=400)"
   ]
  },
  {
   "cell_type": "markdown",
   "metadata": {},
   "source": [
    "## Problem 5\n",
    "\n",
    "### Answer:  [b] i,ii,v\n",
    "\n",
    "### Derivation:\n",
    "\n",
    "A growth function $m_{\\mathcal{H}}(N)$ is well defined if one of the two following conditions are satisfied:\n",
    "\n",
    "- $m_{\\mathcal{H}}(N)= 2^N$ for any N, or\n",
    "- $m_{\\mathcal{H}}(N)$ is a polynomial function of N such that $m_{\\mathcal{H}}(N)\\le 2^N$ for any $N$.\n",
    "\n",
    "In the following, we verify the proposed functions.\n",
    "\n",
    "- i) $f_1(N)=1+N \\le 2^N$ OK!\n",
    "\n",
    "- ii) $f_2(N)=1+N+{N\\choose 2}=1+N+\\frac{N!}{2!N-2!}=1+N+\\frac{N!}{2!N-2!}=1+N+\\frac{N(N-1)}{2}=1+\\frac{N(N+1)}{2}\\le 2^N$ OK!\n",
    "\n",
    "- iii) $f_3(N)=\\sum^{[\\sqrt{N}]}_{i=1} {N\\choose i} \\ge \\sum^{[\\sqrt{N}]}_{i=0}{[\\sqrt{N}]\\choose i}-1=2^{[\\sqrt{N}]}-1$. Hence, $f_3(N)$ is greater than a non-polynomial function in N, although smaller than $2^N$ for $N\\ge 1$. KO!\n",
    "\n",
    "- iv) $f_4(N)=2^{[N/2]}$. Again, it is a non-polynomial function smaller than $2^N$ for $N\\ge 1$.  KO!\n",
    "\n",
    "- v) $f_5(N)=2^{N}$. Trivially, this is a valid growth function. OK!"
   ]
  },
  {
   "cell_type": "markdown",
   "metadata": {},
   "source": [
    "## Problem 6\n",
    "\n",
    "### Answer:  [c] 5\n",
    "\n",
    "### Derivation:\n",
    "\n",
    "2-intervals hypothesis set can shatter completely a data set of four points: this is because two intervals are able to reproduce all the dichotomies for which the classification value of adjacent points doesn't flip more than three times.\n",
    "\n",
    "With 5 points we can easily conceive a dichotomy which is not reproduced by the 2-intervals hypothesis set, in which the classification values flip four times between adjacent points, e.g. $\\{+1,-1,+1,-1,+1\\}$. Therefore, the break point for the 2-intervals hypothesis set is 5."
   ]
  },
  {
   "cell_type": "markdown",
   "metadata": {},
   "source": [
    "## Problem 7\n",
    "\n",
    "### Answer:  [c] ${N+1\\choose4}+{N+1\\choose2}+1$ \n",
    "\n",
    "### Derivation:\n",
    "\n",
    "In the following, we will prove the expression for the growth function for the most generic $M-$intervals hypothesis set.\n",
    "We notice that given $N$ points, the line is split by the points into $N+1$ different regions. The dichotomy is fixed once we decide by which $2M$ regions contain the end values of the $M$ intervals. If all the ends of all the intervals do not overlap, there are $N+1\\choose2M$ possible different dichotomies. If any two intervals are overlapped (i.e. two of their ends happens to be in the same region), they count as one, then the number of possible choices reduces to $N+1\\choose2(M-1)$. This recursively until we get the trivial hypothesis where both of the ends of all the intervals collapse in the same region. In formulae:\n",
    "\n",
    "$$\n",
    "\\label{growthfunc}\n",
    "m_{\\mathcal{H}(M)}(N)=\\sum^M_{k=0} {N+1\\choose2 k}\\,.\n",
    "$$\n",
    "\n",
    "For $M=2$ case, we get:\n",
    "\n",
    "$$\n",
    "m_{\\mathcal{H}(2)}(N)=\\sum^2_{k=0} {N+1\\choose2 k}={N+1\\choose4}+{N+1\\choose2}+1\\,.\n",
    "$$"
   ]
  },
  {
   "cell_type": "markdown",
   "metadata": {},
   "source": [
    "## Problem 8\n",
    "\n",
    "### Answer:  [d] $2M+1$ \n",
    "\n",
    "### Derivation:\n",
    "\n",
    "Generalizing the result of Problem 6, we notice that for the $M-$intervals model, we need at least $M+1$ flips of classification value between adjacent points to reproduce a dichotomy that cannot be generated by the model.\n",
    "To do that, we need at least $N=2(M+1)-1$ points, since the last point can be classified as the first. Therefore, $k=2M+1$.\n",
    "We can explicitly verify this result by studying the growth function defined above in Eq.$\\,\\eqref{growthfunc}$ behavior as a function of $M$."
   ]
  },
  {
   "cell_type": "code",
   "execution_count": 51,
   "metadata": {},
   "outputs": [
    {
     "data": {
      "image/png": "[encoded data removed]",
      "text/plain": [
       "<Figure size 432x288 with 1 Axes>"
      ]
     },
     "metadata": {
      "needs_background": "light"
     },
     "output_type": "display_data"
    },
    {
     "data": {
      "text/plain": [
       "47"
      ]
     },
     "execution_count": 51,
     "metadata": {},
     "output_type": "execute_result"
    }
   ],
   "source": [
    "import scipy.special\n",
    "import matplotlib.pyplot as plt\n",
    "\n",
    "def growth_func(M,N):\n",
    "    m=0\n",
    "    for i in range(M+1):\n",
    "       m+=scipy.special.binom(N+1,2*i)\n",
    "    return np.int(m)\n",
    "\n",
    "def break_point(growth_func, M):\n",
    "    brk_pt=False\n",
    "    N=0\n",
    "    while(brk_pt==False):\n",
    "        brk_pt=(growth_func(M,N)<2**N)\n",
    "        N+=1\n",
    "    return N-1\n",
    "        \n",
    "xrange=np.array(range(20))\n",
    "bpts=[break_point(growth_func, xrange[i]) for i in xrange]\n",
    "plt.plot(xrange,2*xrange+1, label=\"b(M)=2M+1\", color='red')\n",
    "plt.scatter(xrange, bpts,label='break points')\n",
    "plt.legend()\n",
    "plt.show()\n",
    "\n",
    "growth_func()"
   ]
  },
  {
   "cell_type": "code",
   "execution_count": null,
   "metadata": {},
   "outputs": [],
   "source": []
  }
 ],
 "metadata": {
  "author": "CS 156a - Problem Set 2 ",
  "kernelspec": {
   "display_name": "Python 3",
   "language": "python",
   "name": "python3"
  },
  "language_info": {
   "codemirror_mode": {
    "name": "ipython",
    "version": 3
   },
   "file_extension": ".py",
   "mimetype": "text/x-python",
   "name": "python",
   "nbconvert_exporter": "python",
   "pygments_lexer": "ipython3",
   "version": "3.7.4"
  },
  "latex_envs": {
   "LaTeX_envs_menu_present": false,
   "autoclose": true,
   "autocomplete": false,
   "bibliofile": "biblio.bib",
   "cite_by": "apalike",
   "current_citInitial": 1,
   "eqLabelWithNumbers": true,
   "eqNumInitial": 1,
   "hotkeys": {
    "equation": "Ctrl-E",
    "itemize": "Ctrl-I"
   },
   "labels_anchors": true,
   "latex_user_defs": false,
   "report_style_numbering": false,
   "user_envs_cfg": true
  },
  "toc": {
   "base_numbering": 1,
   "nav_menu": {},
   "number_sections": false,
   "sideBar": true,
   "skip_h1_title": true,
   "title_cell": "Table of Contents",
   "title_sidebar": "Contents",
   "toc_cell": false,
   "toc_position": {
    "height": "calc(100% - 180px)",
    "left": "10px",
    "top": "150px",
    "width": "165px"
   },
   "toc_section_display": true,
   "toc_window_display": false
  }
 },
 "nbformat": 4,
 "nbformat_minor": 2
}
